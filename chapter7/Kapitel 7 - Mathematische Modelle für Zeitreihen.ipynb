{
 "cells": [
  {
   "cell_type": "markdown",
   "metadata": {},
   "source": [
    "# Kapitel 7. Mathematische Modelle für Zeitreihen\n",
    "\n",
    "## Lernziele\n",
    "\n",
    "- [ ] zwei Beispiele von einemstationären und zwei Beispiele von einemnicht-stationären stochastischen Prozess aufzuzählen.\n",
    "- [ ] den Unterschied zwischen einer Zeitreihe und einemdiskreten stationären Prozess zu erklären.\n",
    "- [ ] die Definition von weissem Rauschen, RandomWalk (mit Drift), Moving Average und autoregressivem Prozess zu geben.\n",
    "- [ ] die (theoretische) Autokorrelation und Autokovarianz zu definieren und diese Grössen für einen einfachen stochastischen Prozess zu berechnen.\n",
    "- [ ] die Autokorrelation und Autokovarianz für eine gegebene Zeitreihe zu schätzen.\n",
    "- [ ] eine präzise Definition von (schwacher) Stationarität anzugeben und mindestens zwei Eigenschaften aufzuzählen, wieman schwache Stationarität für eine gegebene Zeitreihe testen kann.\n",
    "\n",
    "Computer-basierte Lernziele\n",
    "- [ ] die Autokovarianz und Autokorrelation für eine gegebene Zeitreihe mit Hilfe der Funktion acf zu bestimmen."
   ]
  }
 ],
 "metadata": {
  "kernelspec": {
   "display_name": "Python 3",
   "language": "python",
   "name": "python3"
  },
  "language_info": {
   "codemirror_mode": {
    "name": "ipython",
    "version": 3
   },
   "file_extension": ".py",
   "mimetype": "text/x-python",
   "name": "python",
   "nbconvert_exporter": "python",
   "pygments_lexer": "ipython3",
   "version": "3.7.4"
  }
 },
 "nbformat": 4,
 "nbformat_minor": 2
}

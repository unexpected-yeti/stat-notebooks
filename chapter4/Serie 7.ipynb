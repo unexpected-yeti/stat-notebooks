{
 "cells": [
  {
   "cell_type": "markdown",
   "metadata": {},
   "source": [
    "# Serie 7\n",
    "\n",
    "## 7.1 \n",
    "\n",
    "Old Faithful ist ein Geysir im Yellowstone National Park in Wyoming:\n",
    "https://en.wikipedia.org/wiki/Old_Faithful\n",
    "\n",
    "Im Datensatz oldfaithful.txt sind Längen von 272 aufeinanderfolgenden Ausbrüchen aufgeführt. Hier ist ein Histogramm der Daten.\n",
    "\n",
    "a) Schätzen Sie den Mittelwert der Eruptionsdauern ab und geben Sie ein 95 % Vertrauensintervall mit dem vereinfachten Bootstrap-Verfahren im Skript an.\n",
    "\n",
    "b) Machen Sie dasselbe für den Median"
   ]
  },
  {
   "cell_type": "code",
   "execution_count": 39,
   "metadata": {},
   "outputs": [
    {
     "name": "stdout",
     "output_type": "stream",
     "text": [
      "[201.21783088 217.73915441]\n",
      "[229.5 247. ]\n"
     ]
    },
    {
     "data": {
      "text/plain": [
       "0.2907132352941062"
      ]
     },
     "execution_count": 39,
     "metadata": {},
     "output_type": "execute_result"
    }
   ],
   "source": [
    "import numpy as np\n",
    "\n",
    "data = np.loadtxt(\"data/oldfaithful.txt\")\n",
    "\n",
    "n = data.size\n",
    "nboot = 1000\n",
    "\n",
    "# Create nboot samples of length n\n",
    "bootstrap_samples = np.random.choice(data, n * nboot,replace=True)\n",
    "\n",
    "# Reshape into n x nboot array\n",
    "bootstrap_samples_array = np.reshape(bootstrap_samples, (n, nboot))\n",
    "\n",
    "# Note: without axis=0, it would compute the mean of the flattened array!\n",
    "xbarstar = bootstrap_samples_array.mean(axis=0)\n",
    "d = np.percentile(xbarstar, q=[2.5, 97.5])\n",
    "\n",
    "print(d)\n",
    "\n",
    "# b)\n",
    "#bootstrap_samples_array.median(axis=0)\n",
    "mbarstar = np.median(bootstrap_samples_array, axis=0)\n",
    "m = np.percentile(mbarstar, q=[2.5, 97.5])\n",
    "\n",
    "print(m)\n",
    "\n",
    "# c)\n",
    "mu_empirisch = data.mean()\n",
    "xbarstar = bootstrap_samples_array.mean()\n",
    "\n",
    "abs(xbarstar - mu_empirisch)\n",
    "# TODO ^^^^^^^^"
   ]
  },
  {
   "cell_type": "markdown",
   "metadata": {},
   "source": [
    "## Aufgabe 7.2\n",
    "Aus der uniformen Verteilung X ∼ Uniform([0, 10]) soll eine Stichprobe vom Umfang n gezogen werden.\n",
    "\n",
    "a) Es sei n = 60. Bestimmen Sie ein symmetrisches Intervall\n",
    "$$\n",
    "I = [µX − e, µX + e]\n",
    "$$\n",
    "\n",
    "um den Erwartungswert µX so, dass sich das arithmetische Mittel der Stichprobe, \n",
    "also $\\bar{X}_{60}$, mit der Wahrscheinlichkeit von 95% in I befindet. Ein solches\n",
    "Intervall heisst Prognoseintervall. Hinweis: Standardisieren Sie das arithmetische Mittel Xn und benützen Sie den Zentralen Grenzwertsatz und P(Xn ∈ I) = 0.95."
   ]
  },
  {
   "cell_type": "code",
   "execution_count": 33,
   "metadata": {},
   "outputs": [
    {
     "name": "stdout",
     "output_type": "stream",
     "text": [
      "sample mean: 4.890569300396634\n"
     ]
    },
    {
     "data": {
      "text/plain": [
       "array([0.15209536, 9.95232081])"
      ]
     },
     "execution_count": 33,
     "metadata": {},
     "output_type": "execute_result"
    }
   ],
   "source": [
    "import numpy as np\n",
    "from scipy.stats import uniform\n",
    "\n",
    "n = 60\n",
    "nboot = 1000\n",
    "\n",
    "data = uniform.rvs(loc=0, scale=10, size=60)\n",
    "sample_mean = data.mean()\n",
    "\n",
    "print(\"sample mean:\", sample_mean)\n",
    "\n",
    "bootstrap_sample = np.random.choice(data, n * nboot, replace=True)\n",
    "bootstrap_sample_array = np.reshape(bootstrap_sample, (n, nboot))\n",
    "bootstrap_sample_array.mean(axis=0)\n",
    "\n",
    "np.percentile(bootstrap_sample_array, q=[2.5, 97.5])"
   ]
  },
  {
   "cell_type": "markdown",
   "metadata": {},
   "source": [
    "# Aufgabe 7.3\n",
    "\n",
    "Aufgrund langjähriger Untersuchungen ist bekannt, dass der Bleigehalt X von gewissen Bodenproben annähernd normal-verteilt ist\n",
    "\n",
    "$$\n",
    "X \\sim N(\\mu, \\sigma^2)\n",
    "$$\n",
    "\n",
    "a) Es wurden in 10 Bodenproben der Bleigehalt X gemessen. Dabei wurde ein\n",
    "Mittelwert von $\\bar{x}_{10} = 31$ ppb erhalten. Die Standardabweichung sei bekannt und beträgt 6 ppb. Geben Sie das zweiseitige 99 % Vertrauensintervall für den Mittelwert an.\n",
    "\n",
    "### Lösung\n",
    "\n",
    "Der wahre Mittelwert ist nicht bekannt. Wir haben jedoch ein Modell, indem der empirische Mittelwert von $n = 10$ Stichproben $31$ ppb beträgt. Die Standardabweichung ist mit $6 ppb$ gegeben.\n",
    "\n",
    "Die Idee ist nun, 10 zufällige Werte generieren welche der Verteilung $N(31, 6)$ folgen."
   ]
  },
  {
   "cell_type": "code",
   "execution_count": 67,
   "metadata": {},
   "outputs": [
    {
     "data": {
      "text/plain": [
       "(26.112707522188142, 35.887292477811854)"
      ]
     },
     "execution_count": 67,
     "metadata": {},
     "output_type": "execute_result"
    }
   ],
   "source": [
    "from scipy.stats import norm\n",
    "\n",
    "n = 10\n",
    "std = 6\n",
    "nboot = 1000\n",
    "mean_empirical = 31\n",
    "\n",
    "norm.ppf(q=[0.005, 0.995], loc=mean_empirical, scale=6 / np.sqrt(n))\n",
    "# or\n",
    "norm.interval(alpha=0.99, loc=mean_empirical, scale=6 / np.sqrt(n))"
   ]
  }
 ],
 "metadata": {
  "kernelspec": {
   "display_name": "Python 3",
   "language": "python",
   "name": "python3"
  },
  "language_info": {
   "codemirror_mode": {
    "name": "ipython",
    "version": 3
   },
   "file_extension": ".py",
   "mimetype": "text/x-python",
   "name": "python",
   "nbconvert_exporter": "python",
   "pygments_lexer": "ipython3",
   "version": "3.7.4"
  }
 },
 "nbformat": 4,
 "nbformat_minor": 2
}

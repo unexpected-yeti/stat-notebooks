{
 "cells": [
  {
   "cell_type": "markdown",
   "metadata": {},
   "source": [
    "# Einführung in die Zeitreihen\n",
    "\n",
    "## Lernziele\n",
    "\n",
    "- [ ] die wichtigsten Ziele der Zeitreihenanalyse aufzulisten und mindestens drei Anwendungsbereiche von Zeitreihenanalyse zu nennen.\n",
    "- [ ] den Unterschied zwischen Zeitreihendaten und geläufigen Datentabellen, die z.B. mit der linearen Regression modelliert werden, zu erklären.\n",
    "- [ ] die Familie von Box-Cox-Transformationen zu definieren und qualitativ zu erklären, wie diese Transformationen einen Zeitreihendatensatz ändern.\n",
    "- [ ] die additive Zerlegung einer Zeitreihe mit Hilfe von Moving Average zu erklären.\n",
    "- [ ] das Konzept der STL-Zerlegung einer Zeitreihe in groben Zügen zu erklären.\n",
    "- [ ] den log-return einer Zeitreihe zu berechnen und das Konzept von log-return zu erklären.\n",
    "\n",
    "Computer-basierte Lernziele:\n",
    "- [ ] Zeitreihen mit Hilfe von pandas in Python einzulesen, Zeitfenster der Zeitreihe zu definieren und graphisch darzustellen.\n",
    "- [ ] Zeitreihenmit passendenMethodenwie lagged scatterplots darzustellen oder nach Stunden, Monaten oder Jahren zu gruppieren und mit entsprechenden Boxplots darzustellen.\n",
    "- [ ] die Funktionen seasonal_decompose()und stl() so anzuwenden, dass Zeitreihen zerlegt werden können.\n"
   ]
  }
 ],
 "metadata": {
  "kernelspec": {
   "display_name": "Python 3",
   "language": "python",
   "name": "python3"
  },
  "language_info": {
   "codemirror_mode": {
    "name": "ipython",
    "version": 3
   },
   "file_extension": ".py",
   "mimetype": "text/x-python",
   "name": "python",
   "nbconvert_exporter": "python",
   "pygments_lexer": "ipython3",
   "version": "3.7.4"
  }
 },
 "nbformat": 4,
 "nbformat_minor": 2
}

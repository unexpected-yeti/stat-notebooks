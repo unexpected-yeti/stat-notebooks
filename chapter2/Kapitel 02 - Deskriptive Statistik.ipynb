{
 "cells": [
  {
   "cell_type": "markdown",
   "metadata": {},
   "source": [
    "%%latex\n",
    "\n",
    "# Kapitel 2 - Deskriptive Statistik\n",
    "\n",
    "> Die deskriptive (auch: beschreibende) Statistik hat zum Ziel, empirische\n",
    "> Daten durch Tabellen, Kennzahlen (auch: Maßzahlen oder Parameter) und\n",
    "> Grafiken übersichtlich darzustellen und zu ordnen. Dies ist vor allem bei\n",
    "> umfangreichem Datenmaterial sinnvoll, da dieses nicht leicht überblickt\n",
    "> werden kann - Wikipedia\n",
    "\n",
    "Sie befasst sich, auf welche Weisen (quantitative) Daten organisiert und zusammengefasst werden können. Dies vereinfacht die Interpretation und die darauffolgende statistische Analyse dieser Daten.\n",
    "\n",
    "Werkzeuge der deskriptiven Statistik:\n",
    "* Häufigkeitstabellen für absolute, relative und kumulierte (?) Häufigkeiten\n",
    "* Masszahlen für die Lage wie Mittelwert, Median und Modus(?)\n",
    "* Masszahlen für die Streeung der Daten wie Varianz, Spannweite und Quartilsabstand\n",
    "* Masse für den Zusammenhang zwischen zwei oder mehr Merkmalen wie Korrelationskoeffizienten, empirische Kovarianz, etc.\n",
    "* Grafiken für die visuelle Darstellung eines oder mehrerer Merkmalen, die den Betrachter die Aussagen der Datensätze intuitiv erfassen lassen\n",
    "\n",
    "## Arithmetisches Mittel $\\overline{x}$\n",
    "\n",
    "Das bekannteste Mass (Grösse) für die mittlere Lage ist der Durchschnitt.\n",
    "\n",
    "$$\n",
    "\\overline{x} = \\frac{x_1 + x_2 + ... + x_n}{n} = \\frac{1}{n} \\sum_{i=1}^n x_i\n",
    "$$\n",
    "\n",
    "Zeitweise wird auch die Notation $\\overline{x_n}$ verwendet, wobei $n$ den Umfang der Messreihe angibt.\n",
    "\n",
    "In Python kann der Mittelwert einer Pandas Serie mit mean() berechnet werden:"
   ]
  },
  {
   "cell_type": "code",
   "execution_count": 1,
   "metadata": {},
   "outputs": [
    {
     "data": {
      "text/plain": [
       "80.02076923076923"
      ]
     },
     "execution_count": 1,
     "metadata": {},
     "output_type": "execute_result"
    }
   ],
   "source": [
    "from pandas import Series\n",
    "\n",
    "methodeA = Series([79.98, 80.04, 80.02, 80.04, 80.03, 80.03, 80.04, 79.97, 80.05, 80.03, 80.02, 80.00, 80.02])\n",
    "methodeB = Series([80.02, 79.94, 79.98, 79.97, 79.97, 80.03, 79.95, 79.97])\n",
    "methodeA.mean()"
   ]
  },
  {
   "cell_type": "markdown",
   "metadata": {},
   "source": [
    "## Empirische Varianz und Standardabweichung\n",
    "\n",
    "> Die empirische Varianz,[1] auch Stichprobenvarianz[2] (veraltet: empirisches Streuungsquadrat) oder einfach nur kurz Varianz (lateinisch variantia für „Verschiedenheit“) genannt, ist eine statistische Angabe für die Streubreite von Werten einer Stichprobe und in der deskriptiven Statistik eine Kennzahl einer Stichprobe. Sie gehört zu den Streuungsmaßen und beschreibt die mittlere quadratische Abweichung der einzelnen Messwerte vom empirischen Mittelwert. Sie stellt damit eine Art durchschnittliches Abweichungsquadrat dar. Die positive Wurzel der empirischen Varianz ist die empirische Standardabweichung. Die empirische Standardabweichung stellt das gebräuchlichste Streuungsmaß dar. - Wikipedia.\n",
    "\n",
    "Es sind Masszahlen für die Streeung der Daten: Verteilung der einzelnen Werte um den Mittelwert. Liegen die Daten sehr dicht am Mittelwert, spricht man von einer schwachen Streuung, liegen sie weit entfernt um ihn, dann von einer starken Streuung.\n",
    "\n",
    "Die Standardabweichung (auch oft \"mittlere Abweichung\") $s_x$ ist die Wurzel aus der Varianz $var_x$. Die Standardabweichung halt dieselbe Einheit wie die Daten selbst. Die empirische Varianz hat keine physikalische Bedeutung. Wir wissen nur, je grösser dieser Wert, desto grösser die Streeung.\n",
    "\n",
    "$$\n",
    "\tvar_x = \\frac{(x_1 - \\overline{x_n})^2 + (x_2 - \\overline{x_n})^2 + ... + (x_n - \\overline{x_n})^2 }{n - 1} = \\frac{1}{n-1} \\sum_{i=1}^n (x_i - \\bar{x_n})^2\n",
    "$$\n",
    "\n",
    "Die empirische Standardabweichung $s_x$\n",
    "$$\n",
    "\ts_x = \\sqrt{var_x}\n",
    "$$\n",
    "\n",
    "In Python dienen dazu die Funktionen var() und std():"
   ]
  },
  {
   "cell_type": "code",
   "execution_count": 2,
   "metadata": {},
   "outputs": [
    {
     "name": "stdout",
     "output_type": "stream",
     "text": [
      "Varianz: 0.0005743589743590099\n",
      "Standardabweichung: 0.023965787580611863\n"
     ]
    }
   ],
   "source": [
    "var = methodeA.var()\n",
    "std = methodeA.std()\n",
    "\n",
    "print(\"Varianz:\", var)\n",
    "print(\"Standardabweichung:\", std)"
   ]
  },
  {
   "cell_type": "markdown",
   "metadata": {},
   "source": [
    "## Median\n",
    "\n",
    "> Ein weiteres Lagemass für die mittlere Lage ist der Median. Es handelt sich dabei um den Wert, bei dem rund die Hälfte der Messwerte unterhalb von diesemWert liegen. Ist beispielsweise bei einer Prüfung der Median 4.6, dann hat die Hälfte der Klasse eine Note unterhalb von 4.6. Umgekehrt liegen die Noten der anderen Hälfte oberhalb\n",
    "dieser Note. - Skript\n",
    "\n",
    "Die Daten müssen der Grösse nach geordnet sein, sodass der Median bestimmt werden kann ($x_1 \\le x_2 \\le ... \\le x_n$)\n",
    "Ist die Anzahl der Werte gerade, so gibt es keine \"Mitte\". Der Median berechnet sich dann aus de Mittelwert der mittleren Beobachtungen (z.B. bei $n=8$ wäre dies das Mittel der 4. und 5. Beobachtung)\n",
    "\n",
    "\\say{Eine Eigenschaft des Medians ist die Robustheit. Der Median wird weniger stark durch\n",
    "extreme Beobachtungen beeinflusst als das arithmetische Mittel.} - Skript\n",
    "\n",
    "Das arithmetische Mittel ist anfällig auf Ausreisser.\n",
    "\n",
    "In Python können die Daten mit sort_values einer Serie sortiert werden und mit median() der Median berechnet werden:"
   ]
  },
  {
   "cell_type": "code",
   "execution_count": 3,
   "metadata": {},
   "outputs": [
    {
     "name": "stdout",
     "output_type": "stream",
     "text": [
      "Median Methode A: 80.03\n",
      "Median Methode B: 79.97\n"
     ]
    }
   ],
   "source": [
    "methodeA_sorted = methodeA.sort_values()\n",
    "median_methodeA = methodeA_sorted.median()\n",
    "\n",
    "median_methodeB = methodeB.median()\n",
    "\n",
    "print(\"Median Methode A:\", median_methodeA)\n",
    "print(\"Median Methode B:\", median_methodeB)"
   ]
  },
  {
   "cell_type": "markdown",
   "metadata": {},
   "source": [
    "## Quartile\n",
    "\n",
    "> Quartile sind Werte, die eine Stichprobe von Daten in vier gleiche Teile teilen. Mit diesen können Sie die Streubreite und die Zentraltendenz eines Datensatzes schnell bestimmen; dies sind wichtige Schritte, mit denen Sie erste Erkenntnisse über die Daten gewinnen. - minitab.com\n",
    "\n",
    "| Quartil | Beschreibung |\n",
    "|---------|--------------|\n",
    "| Erstes Quartil (Q1) | 25% der Werte sind unter oder gleich ($\\le$) diesem Wert |\n",
    "| Zweites Quartil (Q2) | 50% der Werte sind unter oder gleich ($\\le$) diesem Wert |\n",
    "| Drittes Quartil (Q3) | Drittes Quartil (Q3) & 75% der Werte sind unter oder gleich ($\\le$) diesem Wert |\n",
    "| Interquartilbereich | Der Abstand zwischen dem ersten und dem dritten Quartil (Q3–Q1) damit umfasst dies die mittleren 50% der Daten |"
   ]
  },
  {
   "cell_type": "markdown",
   "metadata": {},
   "source": [
    "## Quantile\n",
    "\n",
    "> Vereinfacht teilt ein empirisches p-Quantil die Stichprobe so, dass ein Anteil der Stichprobe von p kleiner als das empirische p-Quantil ist und ein Anteil von 1-p der Stichprobe größer als das empirische p-Quantil ist. Ist beispielsweise eine Stichprobe von Schuhgrößen gegeben, so ist das empirische 0,35-Quantil diejenige Schuhgröße $s$ , so dass 35\\% der Schuhgrößen in der Stichprobe kleiner als $s$  sind und 65\\% größer als $s$   sind.\n",
    "\n",
    "### Verallgemeinerung der Quartile auf beliebigen Prozentwert\n",
    "\n",
    "**Beispiel**: 10%-Quantil entspricht der Aussage, dass 10% der Werte kleiner oder gleich ($\\le$) diesem Wert sind und folglich sind 90% grösser oder gleich ($\\ge$) diesem Wert sind.\n",
    "\n",
    "**Verallgemeinerung des empirischen $\\alpha$-Quantil**: $\\alpha \\cdot 100$\\% der Werte sind kleiner oder gleich ($\\le$) diesem Wert und $(1 - \\alpha) \\cdot 100$\\% der Werte sind grösser oder gleich $(\\ge)$ diesem wert.\n",
    "\n",
    "\n",
    "**Empirische $\\alpha$-Quantile $(0 \\lt \\alpha \\lt 1)$**\n",
    "\n",
    "$$x_n = \\begin{cases}\n",
    "\\frac{1}{2} (x_{\\alpha n} + x_{\\alpha n + 1}) & \\text{falls $\\alpha \\cdot n$ eine natürliche Zahl ist} \\\\\n",
    "x_{k}  & \\, \\text{wobei $k$ die Zahl $\\alpha n$ aufgerundet ist.}\n",
    "\\end{cases}$$\n",
    "\n",
    "In Python werden diese mit `quantile` einer Serie berechnet:\n",
    "\n",
    "### Median & Quartile\n",
    "\n",
    "Das zweite Quartil entspricht dem Median. (to be verified)\n",
    "\n",
    "### Quartilsdifferenz\n",
    "\n",
    "\n",
    "> Ein weiteres Streuungsmass für die Daten. Es misst die Länge des Intervalls, das etwa dieHälfte dermittleren Beobachtungen enthält. Je kleiner dieses Streuungsmass ist, desto näher liegt die Hälfte aller Werte beim Median und desto kleiner ist die Streuung. Dieses Streuungsmass ist robust\n",
    "\n",
    "Quartilsdifferenz: oberes Quartil - unteres Quartil. \n"
   ]
  },
  {
   "cell_type": "code",
   "execution_count": 4,
   "metadata": {},
   "outputs": [
    {
     "name": "stdout",
     "output_type": "stream",
     "text": [
      "Erstes Quantil: 80.02\n",
      "Drittes Quantil: 80.04\n",
      "Interquartilbereich: 0.020000000000010232\n",
      "Interpretation, Beispiel Q3: 75% der Werte sind grösser oder gleich 80.04\n",
      "0.020000000000010232\n"
     ]
    }
   ],
   "source": [
    "q1 = methodeA.quantile(q=.25)\n",
    "q3 = methodeA.quantile(q=.75)\n",
    "quantile_difference = q3 - q1\n",
    "\n",
    "print(\"Erstes Quantil:\", q1)\n",
    "print(\"Drittes Quantil:\", q3)\n",
    "print(\"Interquartilbereich:\", quantile_difference)\n",
    "print(f\"Interpretation, Beispiel Q3: 75% der Werte sind grösser oder gleich {q3}\")\n",
    "\n",
    "# Also possible to write\n",
    "q75, q25 = methodeA.quantile(q = [.75, .25])\n",
    "iqr = q75 - q25\n",
    "print(iqr)"
   ]
  },
  {
   "cell_type": "markdown",
   "metadata": {},
   "source": [
    "### Beispiel: Messung der Schmelzwärme von Eis mit Methode A\n",
    "\n",
    "Es sind n = 13 Messwerte, die wir zuerst der Grösse nach ordnen: der kleinste Wert ist x(1) = 79.97, der drittgrösste Wert x(3) = 80.00, der grösste Wert x(13) = 80.05. Wir wollen das 25%-Quantil, den Median und das 75%-Quantil bestimmen. Im Fall vom 25%-Quantil ist dann α = 0.25, also:\n",
    "\n",
    "$$\n",
    "\\alpha \\cdot n = 0.25 \\cdot 13 = 3.25\n",
    "$$\n",
    "\n",
    "Dies ist keine natürliche Zahl (und daher keine Position in dieser Serie), und gemäss obiger Definition wird deshalb auf 4 aufgerundet. Dies ergibt $x_{(4)} = 80.02$ Sprich die vierte Position wird als 25%-Quantil genommen und diese beträgt $80.02$\n",
    "\n",
    "Weitere Quantile können analog zu oben berechnet werden."
   ]
  },
  {
   "cell_type": "code",
   "execution_count": 5,
   "metadata": {},
   "outputs": [
    {
     "name": "stdout",
     "output_type": "stream",
     "text": [
      "10% Quantil: 79.98400000000001\n",
      "70% Quantil: 80.034\n"
     ]
    }
   ],
   "source": [
    "print(\"10% Quantil:\", methodeA.quantile(q=.1))\n",
    "print(\"70% Quantil:\", methodeA.quantile(q=.7))"
   ]
  },
  {
   "cell_type": "markdown",
   "metadata": {},
   "source": [
    "#### Beispiel 2.1.15\n",
    "\n",
    "n einer Schulklasse mit 24 SchülerInnen gab es an einer Prüfung folgende Noten: 4.2, 2.3, 5.6, 4.5, 4.8, 3.9, 5.9, 2.4, 5.9, 6, 4, 3.7, 5, 5.2, 4.5, 3.6, 5, 6, 2.8, 3.3, 5.5, 4.2, 4.9, 5.1\n",
    "Wir berechnen nun mit Python verschiedene Quantile:"
   ]
  },
  {
   "cell_type": "code",
   "execution_count": 6,
   "metadata": {},
   "outputs": [
    {
     "name": "stdout",
     "output_type": "stream",
     "text": [
      "\n"
     ]
    },
    {
     "data": {
      "text/plain": [
       "count    24.000000\n",
       "mean      4.512500\n",
       "std       1.104265\n",
       "min       2.300000\n",
       "25%       3.850000\n",
       "50%       4.650000\n",
       "75%       5.275000\n",
       "max       6.000000\n",
       "dtype: float64"
      ]
     },
     "execution_count": 6,
     "metadata": {},
     "output_type": "execute_result"
    }
   ],
   "source": [
    "import numpy as np\n",
    "\n",
    "print()\n",
    "\n",
    "grades = Series([4.2, 2.3, 5.6, 4.5, 4.8, 3.9, 5.9, 2.4, 5.9, 6, 4, 3.7, 5, 5.2, 4.5, 3.6, 5, 6, 2.8, 3.3, 5.5, 4.2, 4.9, 5.1])\n",
    "grades.quantile(q = np.linspace(start=.2, stop=1, num=5))\n",
    "\n",
    "# for a quick overview of the data, call describe()\n",
    "grades.describe()"
   ]
  },
  {
   "cell_type": "markdown",
   "metadata": {},
   "source": [
    "### Histogramm\n",
    "\n",
    "> Ein Histogramm ist eine grafische Darstellung der Häufigkeitsverteilung kardinal skalierter Merkmale. Es erfordert die Einteilung der Daten in Klassen (englisch bins), die eine konstante oder variable Breite haben können. Es werden direkt nebeneinanderliegende Rechtecke von der Breite der jeweiligen Klasse gezeichnet, deren Flächeninhalte die (relativen oder absoluten) Klassenhäufigkeiten darstellen.[1][2][3] Die Höhe jedes Rechtecks stellt dann die (relative oder absolute) Häufigkeitsdichte dar, also die (relative oder absolute) Häufigkeit dividiert durch die Breite der entsprechenden Klasse.[4] - Wikipedia\n",
    "\n",
    "Schrittweises Vorgehen:\n",
    "1. Datenmenge in Klassen einteilen. (siehe Faustregel)\n",
    "2. Für jede Klasse wird ein Balken eingezeichnet. Die Höhe ist **proportional zur Anzahl Beobachtungen** dieser Klasse\n",
    "3. Der prozentuale Anteil der Klasse zur Gesamtbeobachtung erhält man durch Dividieren der Anzahl Beobachtungen einer Klasse durch die Gesamtzahl.\n",
    "\n",
    "\n",
    "Faustregel:\n",
    "Es gilt die Faustregel, um die Anzahl an Klassen zu bestimmen ($n$ ist die Anzahl Messungen)\n",
    "* $n \\lt 50$ ist die Klassenzahl 5 bis 7\n",
    "* $n \\gt 250$: 10 bis 20 Klassen\n",
    "\n",
    "Alternativ gibt es auch die Sturges-Regel (Anzahl Klassen $k$, Anzahl Messungen $n$):\n",
    "$$\n",
    "k = 1 + log_2n = 1 + 3.3 \\cdot log_{10}n\n",
    "$$\n",
    "\n",
    "#### Histogramme in Python\n",
    "\n",
    "Siehe nächste Cell.\n",
    "\n",
    "Bemerkungen:\n",
    "* `pandas` nutzt die `matplotlib` um Plots zu machen (über die allgemeine `plot`-Methode von `pandas`\n",
    "* `kind=\"hist\"` gibt den Typ an (in diesem Falle: Histogramm)\n",
    "* Per Default werden 10 bins gewählt, kann jedoch mit dem kwargs `bins` geändert werden.\n",
    "* (Skript): Bedeutung der Anzahlen (Frequency): Da 10 Klassen gewählt wurden und die Werte im Bereich [79.97, 80.05] liegen, ist die Balkenbreite (80.05 − 79.97)/10 = 0.008. In der 1. Klasse 79.97-79.978 sind die Beobachtungen mit dem 79.97 berücksichtigt; in der 2. Klasse 79.98; usw."
   ]
  },
  {
   "cell_type": "code",
   "execution_count": 7,
   "metadata": {},
   "outputs": [
    {
     "data": {
      "text/plain": [
       "<Figure size 640x480 with 1 Axes>"
      ]
     },
     "metadata": {},
     "output_type": "display_data"
    }
   ],
   "source": [
    "from pandas import DataFrame, Series\n",
    "import matplotlib.pyplot as plt\n",
    "\n",
    "methodeA = Series([79.98, 80.04, 80.02, 80.04, 80.03, 80.03, 80.04, 79.97, 80.05, 80.03, 80.02, 80.00, 80.02])\n",
    "methodeB = Series([80.02, 79.94, 79.98, 79.97, 79.97, 80.03, 79.95, 79.97])\n",
    "\n",
    "methodeA.plot(kind=\"hist\", edgecolor=\"black\")\n",
    "\n",
    "# Configure plot\n",
    "plt.title(\"Histogramm von Methode A\")\n",
    "plt.xlabel(\"methodeA\")\n",
    "plt.ylabel(\"Haeufigkeit\")\n",
    "\n",
    "# Present plot\n",
    "plt.show()"
   ]
  },
  {
   "cell_type": "markdown",
   "metadata": {},
   "source": [
    "##### Histogramm normieren\n",
    "\n",
    "mHistogramm oben entspricht die Höhe der Balken gerade der Anzahl der Beobachtungen in einer Klasse. Oft ist es besser und übersichtlicher, wennwir die Balkenhöhe so wählen, dass die Balkenfläche dem prozentualen Anteil der jeweiligen Beobachtungen an der Gesamtanzahl Beobachtungen entspricht. Die Gesamtfläche aller Balken muss dann gleich eins sein.\n",
    "\n",
    "Auf der vertikalen Achse sind nun die Dichten dieser Klassen angegeben. Wir können also herauslesen, dass sich in der Klasse (80.018 − 80.026)· 28.846 = 0.23, also etwa 23% der Daten zwischen 80.018 und 80.026 befinden.\n",
    "\n",
    "\n",
    "> Diese Darstellung hat den Vorteil, dass man Messungen mit unterschiedlichen Umfängen besser miteinander vergleichen kann. Würde man also mit Methode A nun eine Messung mit 30 Beobachtungen durchführen, liessen sich mit Dichten besser die\n",
    "Verteilungen von Messwerten auf die jeweiligen Klassen vergleichen.\n",
    "\n",
    "=> Breite * Höhe berechnen ergibt den *prozentualen* Anteil dieser Klasse.\n",
    "\n",
    "In Python kann man mittels kwargs `normed=True` das Histogramm normieren:"
   ]
  },
  {
   "cell_type": "code",
   "execution_count": 8,
   "metadata": {},
   "outputs": [
    {
     "name": "stderr",
     "output_type": "stream",
     "text": [
      "C:\\Users\\claud\\Anaconda3\\lib\\site-packages\\matplotlib\\axes\\_axes.py:6521: MatplotlibDeprecationWarning: \n",
      "The 'normed' kwarg was deprecated in Matplotlib 2.1 and will be removed in 3.1. Use 'density' instead.\n",
      "  alternative=\"'density'\", removal=\"3.1\")\n"
     ]
    },
    {
     "data": {
      "image/png": "[encoded data removed]",
      "text/plain": [
       "<Figure size 432x288 with 1 Axes>"
      ]
     },
     "metadata": {
      "needs_background": "light"
     },
     "output_type": "display_data"
    }
   ],
   "source": [
    "methodeA.plot(kind=\"hist\", normed=True, edgecolor=\"black\")\n",
    "\n",
    "plt.title(\"Normiertes Histogramm von Methode A\")\n",
    "plt.xlabel(\"methodeA\")\n",
    "plt.ylabel(\"Dichte\")\n",
    "\n",
    "plt.show()"
   ]
  },
  {
   "attachments": {
    "Anmerkung%202019-12-15%20111948.png": {
     "image/png": "[encoded data removed]"
    }
   },
   "cell_type": "markdown",
   "metadata": {},
   "source": [
    "### Boxplot\n",
    "\n",
    "> Der Boxplot ist vor allem dann geeignet, wenn man die Verteilungen der Daten in verschiedenen Gruppen (die im Allgemeinen verschiedenen Versuchsbedingungen\n",
    "entsprechen) vergleichen will.\n",
    "\n",
    "Die Darstellung eines Boxplots besteht aus:\n",
    "\n",
    "* Rechteck (Höhe ist vom 25%- zum 75% Quantil\n",
    "* Linien zum kleinsten- und grössten \"normalen\" Wert. Normaler Wert ist höchstens 1.5 mal die Quartilsdifferenz.\n",
    "* Horizonzalen Strich für Median\n",
    "* Kleine Kreise für Ausreisser\n",
    "\n",
    "![Anmerkung%202019-12-15%20111948.png](attachment:Anmerkung%202019-12-15%20111948.png)"
   ]
  },
  {
   "cell_type": "code",
   "execution_count": 9,
   "metadata": {},
   "outputs": [
    {
     "data": {
      "text/plain": [
       "<matplotlib.axes._subplots.AxesSubplot at 0x241cd274e48>"
      ]
     },
     "execution_count": 9,
     "metadata": {},
     "output_type": "execute_result"
    },
    {
     "data": {
      "image/png": "[encoded data removed]",
      "text/plain": [
       "<Figure size 432x288 with 1 Axes>"
      ]
     },
     "metadata": {
      "needs_background": "light"
     },
     "output_type": "display_data"
    }
   ],
   "source": [
    "methodeA.plot(kind=\"box\", title=\"Boxplot Methode A\")"
   ]
  },
  {
   "cell_type": "markdown",
   "metadata": {},
   "source": [
    "Aus diesem Boxplot lassen sich einfach folgende Informationen auslesen:\n",
    "* Die Hälfte der Beobachtungen liegen im Bereich zwischen dem unteren Quantil (80.02) und dem oberen Quantil (80.04).\n",
    "* Median liegt *ungefährt* bei 80.3 (50% der Werte darunter, 50% der Werte darüber)\n",
    "* 25% der Werte liegen unter ~80.02 (oder: 75% der Werte liegen über 80.02)\n",
    "* 75% der Werte liegen unter 80.04 (oder: 25% der Werte liegen über 80.04) \n",
    "* Es gibt zwei Ausreisser bei 79.97 und 79.98"
   ]
  },
  {
   "cell_type": "code",
   "execution_count": 10,
   "metadata": {},
   "outputs": [
    {
     "data": {
      "text/plain": [
       "<matplotlib.axes._subplots.AxesSubplot at 0x241cd308a48>"
      ]
     },
     "execution_count": 10,
     "metadata": {},
     "output_type": "execute_result"
    },
    {
     "data": {
      "image/png": "[encoded data removed]",
      "text/plain": [
       "<Figure size 432x288 with 1 Axes>"
      ]
     },
     "metadata": {
      "needs_background": "light"
     },
     "output_type": "display_data"
    }
   ],
   "source": [
    "### Mehrere Messungen plotten\n",
    "methode = DataFrame({\n",
    "    \"methodeA\": methodeA,\n",
    "    \"methodeB\": methodeB\n",
    "})\n",
    "\n",
    "methode.plot(kind=\"box\", title=\"Boxplot von Methode A und B\")"
   ]
  },
  {
   "cell_type": "markdown",
   "metadata": {},
   "source": [
    "Interpretation:\n",
    "* Methode A liefert die grösseren Werte als Methode B, da der Median von A grösser ist.\n",
    "* Die Daten von Methode A haben weniger Streuung als die Daten von Methode B, da das Rechteck weniger hoch ist (Quartilsdifferenz!)"
   ]
  },
  {
   "cell_type": "markdown",
   "metadata": {},
   "source": [
    "### Empirische kumulative Verteilungsfunktion\n",
    "\n",
    "Die empirische kumulative Verteilungsfunktion $F_n(\\cdot)$ ist eine Treppenfunktion. Sie ist eine graphische Darstellung und hat den Vorteil gegenüber dem Histogramm, dass der Medien einfach abgelesen werden kann.\n",
    "\n",
    "Sie ist definiert als:\n",
    "$$\n",
    "F_n(a) = \\frac{1}{n} \\text{Anzahl}\\{i|x_i \\le a\\}\n",
    "$$\n",
    "\n",
    "> Eine empirische Verteilungsfunktion – auch Summenhäufigkeitsfunktion oder Verteilungsfunktion der Stichprobe genannt – ist in der beschreibenden Statistik und der Stochastik eine Funktion, die jeder reellen Zahl $x$ den Anteil der Stichprobenwerte, die kleiner oder gleich $x$ sind, zuordnet. Die Definition der empirischen Verteilungsfunktion kann in verschiedenen Schreibweisen erfolgen.\n",
    "\n",
    "// Links von 79.97 beträgt dieser Wert $0$, da es keinen Wert kleiner als 79.97 // gibt. Bei $x = 79.97$ beträgt der Wert \n",
    "\n",
    "Die Methode A sortiert:\n",
    "```\n",
    "[79.97, 79.98, 80.0, 80.02, 80.02, 80.02, 80.03, 80.03, 80.03, 80.04, 80.04, 80.04, 80.05]\n",
    "```\n",
    "\n",
    "Somit steigt der Wert bei $x = 79.97$ um $\\frac{1}{n}$. $1$ da der Wert nur einmal vorkommt und $n$ beträgt ist der Stichprobenumfang. Dasselbe für $x = 79.98$. Die Funktion bleibt bis $x = 80.0$ flach, da es keine anderen Werte gibt. Bei $x = 80.02$ steigt die Funktion um $\\frac{3}{n}$ an, da dieser Wert dreimal vorkommt. Bei 80.05 macht die Funktion ihren letzten Sprung, der Funktionswert wird 1.\n",
    "\n",
    "\n",
    "##### Python\n",
    "(Der Median liegt bei $y = 0.5$)"
   ]
  },
  {
   "cell_type": "code",
   "execution_count": 44,
   "metadata": {},
   "outputs": [
    {
     "name": "stdout",
     "output_type": "stream",
     "text": [
      "79.97: Wert beträgt 1/13: 0.07692307692307693\n",
      "80.05: Wert beträgt 13/13: 1.0\n"
     ]
    }
   ],
   "source": [
    "def cumul(a, elements):\n",
    "    \"\"\"\n",
    "    Example implementation of above function.\n",
    "    \n",
    "    No warranty that it is correct.\n",
    "    \"\"\"\n",
    "    values = []\n",
    "    n = len(elements)\n",
    "    for i in elements:\n",
    "        if i <= a:\n",
    "            values.append(i)\n",
    "    \n",
    "    return len(values) * (1/n)\n",
    "\n",
    "\n",
    "print(\"79.97: Wert beträgt 1/13:\", cumul(79.97, methodeA))\n",
    "print(\"80.05: Wert beträgt 13/13:\", cumul(80.05, methodeA))"
   ]
  },
  {
   "cell_type": "code",
   "execution_count": 45,
   "metadata": {},
   "outputs": [
    {
     "data": {
      "text/plain": [
       "<matplotlib.axes._subplots.AxesSubplot at 0x241d0850d08>"
      ]
     },
     "execution_count": 45,
     "metadata": {},
     "output_type": "execute_result"
    },
    {
     "data": {
      "image/png": "[encoded data removed]",
      "text/plain": [
       "<Figure size 432x288 with 1 Axes>"
      ]
     },
     "metadata": {
      "needs_background": "light"
     },
     "output_type": "display_data"
    }
   ],
   "source": [
    "methodeA.plot(kind=\"hist\",\n",
    "              cumulative=True,\n",
    "              histtype=\"step\",  # Darstellung als Treppenfunktion\n",
    "              normed=True,\n",
    "              bins=8,\n",
    "              edgecolor=\"black\")"
   ]
  },
  {
   "cell_type": "markdown",
   "metadata": {},
   "source": [
    "# 2.2 Deskriptive Statistik 2D-Daten\n",
    "\n",
    "Es werden zwei verschiedene Grössen / Dimensionen gemessen. Beispielsweise bei einer Gruppe von Menschen die Körpergrösse *und* das Körpergewicht.\n",
    "\n",
    "### Beispiel 2.2.1 - Weinkonsum und Mortalität\n",
    "\n",
    "> Wir betrachten als Beispiel einen Datensatz (siehe Tabelle 2.2), der den durchschnittlichen Weinkonsum (in Liter pro Person und Jahr) und die Sterblichkeit (Mortalität) aufgrund von Herz- und Kreislauferkrankungen (Anzahl Todesfälle pro 1000 Personen zwischen 55 und 64 Jahren pro Jahr) in 18 industrialisierten Ländern umfasst 3. Es stellt sich nun die Frage, ob diese Daten suggerieren, dass es einen Zusammenhang zwischen der Sterblichkeitsrate aufgrund von Herzkreislauferkrankung und\n",
    "Weinkonsum gibt - Skript\n"
   ]
  },
  {
   "cell_type": "markdown",
   "metadata": {},
   "source": [
    "## Streudiagramm / Scatterplot\n",
    "\n",
    "> Ein Streudiagramm, auch Punktwolke genannt (engl. scatter plot), ist die graphische Darstellung von beobachteten Wertepaaren zweier statistischer Merkmale. Diese Wertepaare werden in ein kartesisches Koordinatensystem eingetragen, wodurch sich eine Punktwolke ergibt. Die Darstellung der Punkte kann durch verschiedene kleine Symbole erfolgen.\n",
    "Man erhofft sich durch das Muster der Punkte im Streudiagramm Informationen über die Abhängigkeitsstruktur der beiden Merkmale zu erkennen, die durch die Koordinaten repräsentiert sind. - Wikipedia\n",
    "\n",
    "\n",
    "Das obige Beispiel kann in einem Scatterplot dargestellt werden. Dabei werden die zwei Grössen *Weinkonsum* in $x_1, x_2, ..., x_18$ und die Mortalität in $y_1, y_2, ..., y_18$ dargestellt, wobei $x_i$ respektive $y_i$ das i-te Land darstellt. Ein Land wird als $(x_i, y_i)$ dargestellt.\n",
    "\n",
    "Der Scatterplot kann in Python mit `plot(kind=\"scatter\"...)` erzeugt werden. Als kwargs müssen die Werte für die `x` und `y` Achse bestimmt werden.\n",
    "\n",
    "Aus dem erzeugten Scatterplot sieht man, dass für diese Beziehung gilt: ein höherer Weinkonsum hat keine Abhängigkeit zu höherer Mortalität.\n",
    "\n",
    "> Man sieht einen klaren monoton fallenden Zusammenhang: Länder mit hohem Weinkonsum haben also eine Tendenz zu einer tieferen Mortalitätsrate wegen Herz- und Kreislaufkrankheiten. - Skript\n",
    "\n",
    "Bemerkungen (Skript):\n",
    "* Die Schlussfolgerung, dass hoher Weinkonsum gesund ist, ist voreilig und vermutlich falsch. Es scheint, dass höherer Weinkonsum zu weniger Toten wegen Herz- und Kreislaufkrankheiten führt. Der Einfluss des höheren Weinkonsums auf andere Körperorgane (z.B. Leber) oder auf die Anzahl Verkehrsunfälle, wird hier nicht untersucht.\n",
    "* Obwohl sich aufgrund des Streudiagramms ein Zusammenhang zwischen Weinkonsum und Mortalität erahnen lässt, muss nicht zwingend ein kausaler Zusam-\n",
    "menhang zwischen den beiden Grössen vorhanden sein.\n",
    "\n",
    "# TODO\n",
    "\n",
    "Welche Arten von Zusammenhang? Positiv / negativ? => wahrscheinlich weiter unten dokumentiert"
   ]
  },
  {
   "cell_type": "code",
   "execution_count": 48,
   "metadata": {},
   "outputs": [
    {
     "data": {
      "image/png": "[encoded data removed]",
      "text/plain": [
       "<Figure size 432x288 with 1 Axes>"
      ]
     },
     "metadata": {
      "needs_background": "light"
     },
     "output_type": "display_data"
    }
   ],
   "source": [
    "from pandas import DataFrame, Series\n",
    "\n",
    "mortality = DataFrame({\n",
    "    \"wine\": ([2.8, 3.2, 3.2, 3.4, 4.3, 4.9, 5.1, 5.2, 5.9, 5.9, 6.6, 8.3, 12.6, 15.1, 25.1, 33.1, 75.9, 75.9]),\n",
    "    \"mor\": ([6.2, 9.0, 7.1, 6.8, 10.2, 7.8, 9.3, 5.9, 8.9, 5.5, 7.1, 9.1, 5.1, 4.7, 4.7, 3.1, 3.2, 2.1])\n",
    "})\n",
    "\n",
    "mortality.plot(\n",
    "    kind=\"scatter\",\n",
    "    x=\"wine\",\n",
    "    y=\"mor\"\n",
    ")\n",
    "\n",
    "plt.xlabel(\"Weinkonsum (Liter pro Jahr und Person)\")\n",
    "plt.ylabel(\"Mortalität\")\n",
    "plt.show()"
   ]
  },
  {
   "cell_type": "markdown",
   "metadata": {},
   "source": [
    "## Einfache lineare Regression\n",
    "\n",
    "Lingo:\n",
    "* Gerade = Regressionsgerade $y = a + bx$\n",
    "\n",
    "> In der Statistik ist die lineare Einfachregression, oder auch einfache lineare Regression (kurz: ELR, selten univariate lineare Regression) genannt, ein regressionsanalytisches Verfahren und ein Spezialfall der linearen Regression. Die Bezeichnung einfach gibt an, dass bei der linearen Einfachregression nur eine unabhängige Variable verwendet wird, um die Zielgröße zu erklären. Ziel ist die Schätzung von Achsenabschnitt und Steigung der Regressionsgeraden sowie die Schätzung der Varianz der Störgrößen. - Wikipedia\n",
    "\n",
    "\n",
    "Gemäss der UZH (https://www.methodenberatung.uzh.ch/de/datenanalyse_spss/zusammenhaenge/ereg.html):\n",
    "\n",
    "> Die einfache Regressionsanalyse wird auch als \"bivariate Regression\" bezeichnet. Sie wird angewendet, wenn geprüft werden soll, ob ein Zusammenhang zwischen zwei intervallskalierten Variablen besteht. \"Regressieren\" steht für das Zurückgehen von der abhängigen Variable y auf die unabhängige Variable x. Daher wird auch von \"Regression von y auf x\" gesprochen. Die abhängige Variable wird im Kontext der Regressionsanalysen auch als \"Kritieriumsvariable\" und die unabhängige Variable als \"Prädiktorvariable\" bezeichnet. \n",
    "Mittels der einfachen Regressionsanalyse können drei Arten von Fragestellungen untersucht werden:\n",
    "> * **Ursachenanalyse**: Gibt es einen Zusammenhang zwischen der unabhängigen und der abhängigen Variable? Wie eng ist dieser?\n",
    "> * **Wirkungsanalyse**: Wie verändert sich die abhängige Variable bei einer Änderung der unabhängigen Variablen?\n",
    "> * **Prognose**: Können die Messwerte der abhängigen Variable durch die Werte der unabhängigen Variable vorhergesagt werden?\n",
    "Es ist an dieser Stelle anzumerken, dass jeder postulierte Kausalzusammenhang theoretisch begründet sein muss.\n",
    "> Die Fragestellung der Regressionsanalyse wird oft so verkürzt: \"Wie beeinflusst eine unabhängige Variablen die abhängige Variable?\" oder \"Können die Messwerte der abhängigen Variable durch die Werte der unabhängigen Variablen vorhergesagt werden?\" oder \"Wie stark ist der Einfluss der unabhängigen Variable auf die abhängige Variable?\"\n",
    "\n",
    "#### Beispiel: Zusammenhang Seitenzahl-Preis eines Buches\n",
    "\n",
    "TODO Umschreiben:\n",
    "> Wir erklären das Modell der einfachen linearen Regression zunächst mit einem fiktiven Beispiel. Je dicker ein Roman (Hardcover) ist, desto teurer ist er in der Regel. Es gibt also einen Zusammenhang zwischen Seitenzahl x und Buchpreis y. Wir gehen in einen Buchladen und suchen zehn Romane verschiedener Dicken aus. Wir nehmen dabei je ein Buch mit der Seitenzahl 50, 100, 150, . . . , 450, 500. Von jedem Buch notieren wir die Seitenzahl und den Buchpreis. Mit diesen Daten erstellen wir Tabelle 2.3.\n",
    "Aus der Tabelle ist tatsächlich ersichtlich, dass dickere Bücher tendenziell mehr kosten. Wennwir einen formelmässigen Zusammenhang zwischen Buchpreis und Seitenzahl hätten, könnten wir Vorhersagen über den Preis für Bücher mit Seitenzahlen machen, die wir nicht beobachtet haben. Was würde dann voraussichtlich ein Buch mit 375 Seiten kosten? Oder wir könnten herausfinden, wie teuer ein Buch mit „null” Seiten wäre. Das wären die Grundkosten des Verlags, die unabhängig von der Seitenzahl anfallen: Einband, administrativer Aufwand für jedes Buch, etc. Wie könnten wir diesen Zusammenhang mit einer Formel beschreiben? Das Streudiagramm in Abbildung 2.7 zeigt diesen Zusammenhang graphisch deutlicher auf.\n",
    "Auf den ersten Blick scheint eine Gerade recht gut zu den Daten zu passen. Diese Gerade hätte die Form\n",
    "$$ y = a + bx $$\n",
    "mit y dem Buchpreis und x der Seitenzahl sind. Der Parameter a beschreibt dann die Grundkosten des Verlags und der Parameter b entspricht den Kosten pro Seite.\n",
    "\n",
    "### Methode der kleinsten Quadrate\n",
    "\n",
    "Zentrale Fragestellung: *\"Wie können wir eine Gerade finden, die möglichst gut zu allen Punkten passt?\"*\n",
    "\n",
    "Um zu quantifizieren, wie *gut* diese Gerade *passt* muss ein Mass eingeführt werden. Dazu kann die vertikale Distanz der Beobachtungen und Gerade summieren. Umso kleiner die Summe, umso besser passt die Gerade:\n",
    "\n",
    "Diese Differenz bezeichnen wir als *Residuum* $r_i$, den Beobachtungspunkt als $(x_i, y_i)$. Der Punkt auf der Geraden hat die Koordinaten $(x_i, a + bx_i)$. Den Reisduum kann nun wie folgt berechnet werden:\n",
    "\n",
    "$$\n",
    "r_i = y_i - (a + bx_i) = y_i - a - bx_i\n",
    "$$\n",
    "\n",
    "Da uns nur die vertikale Distanz interessiert, nehmen wir nur die Werte der $y$-Achse. Als nächstes gilt es die Gerade zu bestimmen, welche die Summe der Residuuen möglichst klein haltet:\n",
    "$$\n",
    "r_1 + r_2 + ... + r_n = \\sum_i r_i\n",
    "$$\n",
    "\n",
    "**ACHTUNG**: Diese Methode hat ein grosses Problem: sind die Hälfte der Residuuen positiv, die andere negativ, so gleichen sich diese aus. Die Summe ist also nahe null, obwohl diese Gerade nicht positiv ist.\n",
    "\n",
    "Der absolute Wert zu nehmen ist hier nicht empfohlen da mit ihnen nicht bequem rechnen lässt. Deshalb werden diese Abweichungen / Residuuen quadriert!\n",
    "$$\n",
    "r^2_1 + r^2_2 + ... + r^2_n = \\sum_i r^2_i\n",
    "$$\n",
    "\n",
    "\n",
    "Parameter $a$ und $b$ der Geraden $y = a + bx$ müssen so gewählt werden, dass die Summe mininmal wird. Umso kleiner diese Summe, umso besser passt die Gerade."
   ]
  },
  {
   "cell_type": "code",
   "execution_count": 51,
   "metadata": {},
   "outputs": [
    {
     "data": {
      "image/png": "[encoded data removed]",
      "text/plain": [
       "<Figure size 432x288 with 1 Axes>"
      ]
     },
     "metadata": {
      "needs_background": "light"
     },
     "output_type": "display_data"
    }
   ],
   "source": [
    "book = DataFrame({\n",
    "    \"pages\" : np.linspace(50,500,10),\n",
    "    \"price\" : [6.4, 9.5, 15.6, 15.1, 17.8, 23.4, 23.4, 22.5, 26.1, 29.1]\n",
    "})\n",
    "\n",
    "book.plot(kind=\"scatter\", x=\"pages\", y=\"price\")\n",
    "\n",
    "plt.xlabel(\"Seitenzahl\")\n",
    "plt.ylabel(\"Buchpreis\")\n",
    "plt.show()"
   ]
  },
  {
   "cell_type": "markdown",
   "metadata": {},
   "source": [
    "In Python kann dies durch numpy's `polyfit` erzeugt werden. Mit dem Parameter `deg=1` wird so ein Polynom vom Grad 1 (lineare Funktion) erzeugt. Es passt dieses Polynom an diese Daten an. Es gibt zwei Werte zurück:\n",
    "1. die Steigung\n",
    "2. den y-Achsenabschnitt"
   ]
  },
  {
   "cell_type": "code",
   "execution_count": 55,
   "metadata": {},
   "outputs": [
    {
     "name": "stdout",
     "output_type": "stream",
     "text": [
      "a=6.039999999999993, b=0.04672727272727272\n"
     ]
    }
   ],
   "source": [
    "import numpy as np\n",
    "b, a = np.polyfit(book[\"pages\"], book[\"price\"], deg=1)\n",
    "print(f\"a={a}, b={b}\")"
   ]
  },
  {
   "cell_type": "markdown",
   "metadata": {},
   "source": [
    "Somit steht für $a = 6.04$ und für $b = 0.04673$ fest. Daraus ergibt sich die Geradengleichung:\n",
    "\n",
    "$$\n",
    "y = 6.04 + 0.04673x\n",
    "$$\n",
    "\n",
    "Daraus lässt sich schliessen, dass die Grundkosten des Verlags sind also $6.04$ SFr. Weiterer verlangt der Verlag pro Seite $0.046$ Rappen.\n",
    "\n",
    "Beispiel:\n",
    "Wie viel würde demnach ein Buch mit 375 Seiten kosten?\n",
    "\n",
    "$x = 375$ einsetzen: $y = 6.04 + 0.04673 \\cdot 375$ und erhalten somit: $23.60$.\n",
    "\n",
    "> Dieses Modell ist allerdings nur begrenzt gültig. Vor allem bei Extrapolationen muss man vorsichtig sein. Wir könnten schon ausrechnen, wie viel ein Buchmit einerMillion Seiten kostet, aber dieser Betrag\n",
    "dürfte dann wohl kaum der Realität entsprechen."
   ]
  },
  {
   "cell_type": "code",
   "execution_count": 64,
   "metadata": {},
   "outputs": [
    {
     "data": {
      "image/png": "[encoded data removed]",
      "text/plain": [
       "<Figure size 432x288 with 1 Axes>"
      ]
     },
     "metadata": {
      "needs_background": "light"
     },
     "output_type": "display_data"
    }
   ],
   "source": [
    "book.plot(kind=\"scatter\", y=\"price\", x=\"pages\")\n",
    "b, a = np.polyfit(book[\"pages\"], book[\"price\"], deg=1)\n",
    "\n",
    "# Creates a vector x with length 50, first value is the smallest value\n",
    "# in book[\"pages\"] and the last value is the biggest value in pages.\n",
    "# min = 50; max = 500\n",
    "x = np.linspace(book[\"pages\"].min(), book[\"pages\"].max())\n",
    "\n",
    "regression = lambda x: a + b * x\n",
    "\n",
    "plt.plot(x, regression(x), c=\"red\")\n",
    "plt.xlabel(\"Seitenzahl\")\n",
    "plt.ylabel(\"Buchpreis\")\n",
    "plt.show()"
   ]
  },
  {
   "cell_type": "markdown",
   "metadata": {},
   "source": [
    "#### Beispiel 2.2.8\n",
    "\n",
    "Wir legen den Daten des Weinkonsums und der Mortalität ein lineares Modell ($y = a + bx$) zu Grunde. Mittels Python berechnen wir $a$ und $b$:"
   ]
  },
  {
   "cell_type": "code",
   "execution_count": 78,
   "metadata": {},
   "outputs": [
    {
     "name": "stdout",
     "output_type": "stream",
     "text": [
      "a=7.686554949354207, b=-0.07608090754932781\n"
     ]
    }
   ],
   "source": [
    "b, a = np.polyfit(mortality[\"wine\"], mortality[\"mor\"], deg=1)\n",
    "print(f\"a={a}, b={b}\")"
   ]
  },
  {
   "cell_type": "markdown",
   "metadata": {},
   "source": [
    "Damit haben wir für $a=7.68$ und für $b=-0.076$ bestimmt, somit ist die Gleichung der Regressionsgerade:\n",
    "$$\n",
    "y = 7.68 - 0.076 \\cdot x\n",
    "$$\n",
    "\n",
    "Im Scatterplot sehen wir jedoch schnell, dass diese Daten **keinem\"** linearen Zusammenhang folgen. Die Regressionsgerade sagt hier also sehr wenig über den wahren Zusammenhang der Daten aus."
   ]
  },
  {
   "cell_type": "code",
   "execution_count": 84,
   "metadata": {},
   "outputs": [
    {
     "data": {
      "text/plain": [
       "Text(0, 0.5, 'Mortalität')"
      ]
     },
     "execution_count": 84,
     "metadata": {},
     "output_type": "execute_result"
    },
    {
     "data": {
      "image/png": "[encoded data removed]",
      "text/plain": [
       "<Figure size 432x288 with 1 Axes>"
      ]
     },
     "metadata": {
      "needs_background": "light"
     },
     "output_type": "display_data"
    }
   ],
   "source": [
    "mortality.plot(kind=\"scatter\", x=\"wine\", y=\"mor\")\n",
    "\n",
    "x = np.linspace(mortality[\"wine\"].min(), mortality[\"wine\"].max())\n",
    "\n",
    "b, a = np.polyfit(mortality[\"wine\"], mortality[\"mor\"], deg=1)\n",
    "plt.plot(x, a + b * x, c=\"red\")\n",
    "plt.xlabel(\"Weinkonsum (Liter pro Jahr und Person)\")\n",
    "plt.ylabel(\"Mortalität\")"
   ]
  },
  {
   "cell_type": "markdown",
   "metadata": {},
   "source": [
    "Die Regressionsgerade können wir (fast) immer bestimmen. In den letzten beiden Beispielen (bezogen auf Wein / Mortalität etc) haben wir aber gesehen, dass die Regressionsgerade sehr wenig über die wirkliche Verteilung der Punkte im Streudiagramm aussagt. Dafür gibt es zwei Gründe:\n",
    "• Die Punkte folgen scheinbar gar keiner Gesetzmässigkeit\n",
    "• Die Punkte folgen einer nichtlinearen Gesetzmässigkeit\n",
    "\n",
    "Wie können wir nun aber feststellen, ob ein linearer Zusammenhang der Daten besteht oder nicht? Eine Möglichkeit ist sicher, die Situation graphisch zu betrachten, wie wir das eben gemacht haben. Wir können aber auch einenWert  angeben, der den Zusammenhang numerisch beschreibt"
   ]
  },
  {
   "cell_type": "markdown",
   "metadata": {},
   "source": [
    "## Empirische Kovarianz und Korrelation\n",
    "\n",
    "### TODO\n",
    "negativ & positiv besser beschreiben\n",
    "\n",
    "### Empirische Kovarianz\n",
    "\n",
    "> Die Stichprobenkovarianz oder empirische Kovarianz (oft auch einfach Kovarianz) ist in der Statistik eine nichtstandardisierte Maßzahl für den (linearen) Zusammenhang zweier statistischer Variablen. Die korrigierte Stichprobenkovarianz ist eine erwartungstreue Schätzung der Kovarianz einer Grundgesamtheit mittels einer Stichprobe.\n",
    "Ist die Kovarianz positiv, dann gehen kleine Werte der einen Variable überwiegend einher mit kleinen Werten der anderen Variable und gleichfalls für große Werte. Für eine negative Kovarianz ist das genau umgekehrt. - Wikipedia\n",
    "\n",
    "Um festzustellen, ob ein linearer Zusammenhang zwischen zwei Grössen besteht, führen wir den Begriff der Kovarianz ein\n",
    "\n",
    "Sie ist als durchschnittliches Produkt der Abweichungen beider Merkmale von ihrem Mittelwert definiert, wie im Folgenden als Formel dargestellt.\n",
    "\n",
    "**Wichtig**: Im Skript nicht erwähnt, aber bei der Formel handelt es sich um die *korrigierte Stichprobenvarianz*. Der Unterschied liegt im Vorfaktor $\\frac{1}{n}$ der bei der korrigierten Version $\\frac{1}{n-1}$ beträgt.\n",
    "\n",
    "$$\n",
    "cov_{xy} = \\frac{1}{n-1} \\sum_{i=1}^n (x_i - \\bar{x})(y_i - \\bar{y})\n",
    "$$\n",
    "\n",
    "Die Stichprobenkovarianz misst die gemeinsame Streuung („Mitstreuung“) der Beobachtungsdaten einer Stichprobe. Dabei wird die mittlere Abweichung der Beobachtungsdaten von den Mittelwerten $(\\bar{x}, \\bar{y})$ berechnet.\n",
    "\n",
    "Der Spezialfall $x = y$:\n",
    "$$\n",
    "cov_{xx} = \\frac{1}{n-1} \\sum_{i=1}^n (x_i - \\bar{x})(x_i - \\bar{x})\n",
    "$$\n",
    "\n",
    "Dies entspricht der empirischen Varianz ($s^2_x$) von $x$:\n",
    "$$\n",
    "cov_{xx} = var_x = s^2_x\n",
    "$$\n",
    "\n",
    "**Wichtig**: Die Kovarianz erkennt nur lineare Zusammenhänge (also z.B. keine quadratische). Eine Erklärung dazu findet sich im Skript auf Seite 46 - 49.\n",
    "\n",
    "> Falls es keinen linearen Zusammenhang gibt, so kann die Kovarianz 0 sein, obwohl ein nichtlinearer Zusammenhang besteht. Wir sollten uns nie ausschliesslich auf den Wert der Kovarianz verlassen, sondern immer die Plots auf nichtlineare Zusammenhänge überprüfen.\n",
    "\n",
    "#### Beispiel 2.2.10 - Benzoapryrene\n",
    "\n",
    "> Benzoapryrene ist ein krebserregendes Kohlenwasserstoffmolekül, welches das Produkt von unvollständiger Verbrennung ist. Eine Quelle von Benzoapyrene undKohlenmonoxid sind Autoabgase. Colucci und Begeman (1971) analysierten 16 Luftproben, die amHerald Square in Manhattan genommen wurden.\n",
    "Sie zeichneten die Kohlenmonoxidkonzentration (in parts per million) und die Benzapyrenekonzentration (in Mikrogramm pro 1000 Kubikmeter) für jede Probe auf."
   ]
  },
  {
   "cell_type": "code",
   "execution_count": 102,
   "metadata": {},
   "outputs": [
    {
     "data": {
      "image/png": "[encoded data removed]",
      "text/plain": [
       "<Figure size 432x288 with 1 Axes>"
      ]
     },
     "metadata": {
      "needs_background": "light"
     },
     "output_type": "display_data"
    }
   ],
   "source": [
    "import pandas as pd\n",
    "\n",
    "# CO = Autoabgase (parts per million)\n",
    "# Benzoa = Benzoapryrenekonzentration in Mikrogramm pro 1000 Kubikmeter\n",
    "benzoa = pd.read_csv('Herald.dat', sep=\"\\t\")\n",
    "\n",
    "# CO_min = 2.8 (abgerundet auf 2.5)\n",
    "# CO_max = 19.5 (aufgerundet auf 20)\n",
    "benzoa.describe()\n",
    "\n",
    "benzoa.plot(kind=\"scatter\", x=\"CO\", y=\"Benzoa\")\n",
    "\n",
    "\n",
    "# Mittelwert Benzoa (y) ploten:\n",
    "# * (2.5, 20): Länge auf der x-Achse (von Punkt zu Punkt = Gerade)\n",
    "# * (mean(y), mean(y)): Höhe auf y-Achse (Punkt zu Punkt = Gerade)\n",
    "plt.plot((2.5, 20), (benzoa[\"Benzoa\"].mean(), benzoa[\"Benzoa\"].mean()), c=\"orange\")\n",
    "# Mittelwert CO (x) ploten\n",
    "plt.plot((benzoa[\"CO\"].mean(), benzoa[\"CO\"].mean()), (0, 10), c=\"green\")\n",
    "plt.ylabel(\"Benzoapyrene\")\n",
    "plt.show()"
   ]
  },
  {
   "cell_type": "markdown",
   "metadata": {},
   "source": [
    "In Python kann die Kovarianz eines `DataFrame` mittels `cov()` berechnet werden. Es gibt eine Kovarianzmatrix zurück, siehe unten. Die Kovarianzen von CO mit CO respektive Benzoa mit Benzoa entspricht deren Varianz.\n",
    "\n",
    "Uns interessiert die Varianz von Benzoa und CO, welche in der Matrix $5.511042$ beträgt ($cov_{\\text{CO}\\text{ Benzoa}}$)"
   ]
  },
  {
   "cell_type": "code",
   "execution_count": 105,
   "metadata": {},
   "outputs": [
    {
     "data": {
      "text/html": [
       "<div>\n",
       "<style scoped>\n",
       "    .dataframe tbody tr th:only-of-type {\n",
       "        vertical-align: middle;\n",
       "    }\n",
       "\n",
       "    .dataframe tbody tr th {\n",
       "        vertical-align: top;\n",
       "    }\n",
       "\n",
       "    .dataframe thead th {\n",
       "        text-align: right;\n",
       "    }\n",
       "</style>\n",
       "<table border=\"1\" class=\"dataframe\">\n",
       "  <thead>\n",
       "    <tr style=\"text-align: right;\">\n",
       "      <th></th>\n",
       "      <th>CO</th>\n",
       "      <th>Benzoa</th>\n",
       "    </tr>\n",
       "  </thead>\n",
       "  <tbody>\n",
       "    <tr>\n",
       "      <th>CO</th>\n",
       "      <td>25.811625</td>\n",
       "      <td>5.511042</td>\n",
       "    </tr>\n",
       "    <tr>\n",
       "      <th>Benzoa</th>\n",
       "      <td>5.511042</td>\n",
       "      <td>9.331625</td>\n",
       "    </tr>\n",
       "  </tbody>\n",
       "</table>\n",
       "</div>"
      ],
      "text/plain": [
       "               CO    Benzoa\n",
       "CO      25.811625  5.511042\n",
       "Benzoa   5.511042  9.331625"
      ]
     },
     "execution_count": 105,
     "metadata": {},
     "output_type": "execute_result"
    }
   ],
   "source": [
    "benzoa.cov()"
   ]
  },
  {
   "cell_type": "markdown",
   "metadata": {},
   "source": [
    "Das Problem an Kovarianz ist, dass sie schlecht oder kaum zu interpretieren ist. So hat die Kovarianz im obigen Beispiel die Einheit ppm · µg/1000m3 (das Produkt beider Einheiten) was fast unmöglich zu interpretieren ist. Um dies zu korrigieren, führen wir mit der empirische Korrelation ein neues  dimensionsloses Mass ein, das den linearen Zusammenhang zwischen Stichprobenpaaren\n",
    "$(x_i, y_i)$ misst."
   ]
  },
  {
   "cell_type": "markdown",
   "metadata": {},
   "source": [
    "### Empirische Korrelation\n",
    "\n",
    "> Der Korrelationskoeffizient, auch Produkt-Moment-Korrelation ist ein Maß für den Grad des linearen Zusammenhangs zwischen zwei mindestens intervallskalierten Merkmalen, das nicht von den Maßeinheiten der Messung abhängt und somit dimensionslos ist. Er kann Werte zwischen $-1$ und $+1$ annehmen. Bei einem Wert von $+1$ (bzw. $-1$) besteht ein vollständig positiver (bzw. negativer) linearer Zusammenhang zwischen den betrachteten Merkmalen. Wenn der Korrelationskoeffizient den Wert $0$ aufweist, hängen die beiden Merkmale überhaupt nicht linear voneinander ab. Allerdings können diese ungeachtet dessen in nichtlinearer Weise voneinander abhängen. - Wikipedia\n",
    "\n",
    "Die empirische Korrelation $r_xy$ (auch $r$ oder $\\hat{\\rho}$) ist eine Kennzahl über die lineare Abhängigkeit von zwei Grössen. Sie berechnet sich aus der standardisierten Kovarianz. Dabei wird die Kovarianz $cov_{xy}$ durch das Produkt der Standardabweichungen $s_x$ und $s_y$ geteilt. $s_x$ und $s_y$ sind die Standardabweichungen von den Stichproben $x_i$ und $y_i$.\n",
    "\n",
    "Sie misst Stärke und Richtung der linearen Abhängigkeit zwischen den Daten x und y.\n",
    "\n",
    "*Sie ist für die Koordinationspaare $(x_i, y_i)$ definiert. Das heisst, jedes Koordinatenpaar ist anderst!* -- REALLY?\n",
    "\n",
    "$$\n",
    "r_{xy} = \\frac{cov_{xy}}{s_x \\cdot s_y}\n",
    "$$\n",
    "\n",
    "#### Eigenschaften\n",
    "\n",
    "1. $r_{xy} = +1$: Punkte liegen auf einer steigenden Geraden ($y = a + bx$, $b > 0$)\n",
    "2. $r_{xy} = -1$: Punkte liegen auf einer fallenden Geraden ($y = a + bx$, $b < 0$)\n",
    "3. Sind $x$ und $y$ unabhängig, so beträgt $r_{xy} = 0$. Umkehrschluss gilt jedoch nicht: wenn $r_{xy}$ ist, bedeutet das nicht dass die Variablen unabhängig sind (sondern z.B eine quadratische Abhängigkeit haben).\n",
    "\n",
    "> Man sollte jedoch nie r berechnen, ohne einen Blick auf das Streudiagramm zu werfen, da ganz verschiedene Strukturen den gleichen Wert von rxy ergeben können. Siehe dazu Abbildung 2.18 auf Seite 54.\n",
    "\n",
    "#### Python\n",
    "\n",
    "Der Korrelationskoeffizient $r$ kann mittels `corr()` berechnet werden. Er beträgt $0.968112$, also fast $1$. Damit kann ein enger, linearer Zusammenhang suggeriert werden. Dazu ist der Wert positiv, was einem „je mehr, desto mehr”, also einem positiven linearen Zusammenhang entspricht."
   ]
  },
  {
   "cell_type": "code",
   "execution_count": 107,
   "metadata": {},
   "outputs": [
    {
     "data": {
      "text/html": [
       "<div>\n",
       "<style scoped>\n",
       "    .dataframe tbody tr th:only-of-type {\n",
       "        vertical-align: middle;\n",
       "    }\n",
       "\n",
       "    .dataframe tbody tr th {\n",
       "        vertical-align: top;\n",
       "    }\n",
       "\n",
       "    .dataframe thead th {\n",
       "        text-align: right;\n",
       "    }\n",
       "</style>\n",
       "<table border=\"1\" class=\"dataframe\">\n",
       "  <thead>\n",
       "    <tr style=\"text-align: right;\">\n",
       "      <th></th>\n",
       "      <th>pages</th>\n",
       "      <th>price</th>\n",
       "    </tr>\n",
       "  </thead>\n",
       "  <tbody>\n",
       "    <tr>\n",
       "      <th>pages</th>\n",
       "      <td>1.000000</td>\n",
       "      <td>0.968112</td>\n",
       "    </tr>\n",
       "    <tr>\n",
       "      <th>price</th>\n",
       "      <td>0.968112</td>\n",
       "      <td>1.000000</td>\n",
       "    </tr>\n",
       "  </tbody>\n",
       "</table>\n",
       "</div>"
      ],
      "text/plain": [
       "          pages     price\n",
       "pages  1.000000  0.968112\n",
       "price  0.968112  1.000000"
      ]
     },
     "execution_count": 107,
     "metadata": {},
     "output_type": "execute_result"
    }
   ],
   "source": [
    "book.corr()"
   ]
  },
  {
   "cell_type": "markdown",
   "metadata": {},
   "source": [
    "##### Beispiel 2.2.14\n",
    "Auch beimWeinkonsum erwarten wir einen negativen Korrelationskoeffizienten, da mit steigendem Weinkonsum die Mortalität sinkt und der nahe bei null liegt. Er beträgt −0.746. Ohne die Daten in einem Streudiagramm darzustellen, würde man aufgrund dieses Wertes fälschlicherweise auf einen starken negativen linearen Zusammenhang schliessen. Als Erinnerung deshalb nachfolgend der Scatterplot."
   ]
  },
  {
   "cell_type": "code",
   "execution_count": 110,
   "metadata": {},
   "outputs": [
    {
     "data": {
      "text/html": [
       "<div>\n",
       "<style scoped>\n",
       "    .dataframe tbody tr th:only-of-type {\n",
       "        vertical-align: middle;\n",
       "    }\n",
       "\n",
       "    .dataframe tbody tr th {\n",
       "        vertical-align: top;\n",
       "    }\n",
       "\n",
       "    .dataframe thead th {\n",
       "        text-align: right;\n",
       "    }\n",
       "</style>\n",
       "<table border=\"1\" class=\"dataframe\">\n",
       "  <thead>\n",
       "    <tr style=\"text-align: right;\">\n",
       "      <th></th>\n",
       "      <th>wine</th>\n",
       "      <th>mor</th>\n",
       "    </tr>\n",
       "  </thead>\n",
       "  <tbody>\n",
       "    <tr>\n",
       "      <th>wine</th>\n",
       "      <td>1.000000</td>\n",
       "      <td>-0.745568</td>\n",
       "    </tr>\n",
       "    <tr>\n",
       "      <th>mor</th>\n",
       "      <td>-0.745568</td>\n",
       "      <td>1.000000</td>\n",
       "    </tr>\n",
       "  </tbody>\n",
       "</table>\n",
       "</div>"
      ],
      "text/plain": [
       "          wine       mor\n",
       "wine  1.000000 -0.745568\n",
       "mor  -0.745568  1.000000"
      ]
     },
     "execution_count": 110,
     "metadata": {},
     "output_type": "execute_result"
    }
   ],
   "source": [
    "mortality.corr()"
   ]
  },
  {
   "cell_type": "code",
   "execution_count": 111,
   "metadata": {},
   "outputs": [
    {
     "data": {
      "image/png": "[encoded data removed]",
      "text/plain": [
       "<Figure size 432x288 with 1 Axes>"
      ]
     },
     "metadata": {
      "needs_background": "light"
     },
     "output_type": "display_data"
    }
   ],
   "source": [
    "mortality.plot(kind=\"scatter\", x=\"wine\", y=\"mor\")\n",
    "\n",
    "plt.xlabel(\"Weinkonsum (Liter pro Jahr und Person)\")\n",
    "plt.ylabel(\"Mortalität\")\n",
    "plt.show()"
   ]
  },
  {
   "cell_type": "markdown",
   "metadata": {},
   "source": [
    "Für den Datensatz Herald berechnet sich die Korrelation wie folgt: \n",
    "```python\n",
    "benzoa.corr()\n",
    "              CO   Benzoa\n",
    "CO      1.000000 0.355097\n",
    "Benzoa  0.355097 1.000000\n",
    "```\n",
    "\n",
    "Wir erhalten die Korrelationsmatrix. Wieder ist der Eintrag für Zeile CO und Spalte Benzoa entscheidend. Es gilt: $r_xy$ (wobei $x$ = CO und $y$ = Benzoa sind) = 0.3551\n",
    "Obwohl die Korrelation klein ist, gibt es trotzdem eine physikalische Erklärung für die Korrelation, da beide Stoffe das Produkt von unvollständiger Verbrennung sind. \n",
    "Eine Korrelation von 0.36 ergibt typischerweise einen leichten visuellen Eindruck, dass y sich vergrössert, wenn x vergrössert wird. Die Punkte streuen allerdings stark"
   ]
  },
  {
   "cell_type": "markdown",
   "metadata": {},
   "source": [
    "# Datenbereinigungen / Missing data\n",
    "\n",
    "> In statistics, missing data, or missing values, occur when no data value is stored for the variable in an observation. Missing data are a common occurrence and can have a significant effect on the conclusions that can be drawn from the data. ata often are missing in research in economics, sociology, and political science because governments or private entities choose not to, or fail to, report critical statistics, or because the information is not available. Sometimes missing values are caused by the researcher—for example, when data collection is done improperly or mistakes are made in data entry. - https://en.wikipedia.org/wiki/Missing_data\n",
    "\n",
    "Fehlende Daten sind ein häufiges Problem in der Datenanalyse. Deren Umgang ist nicht einheitlich.\n",
    "\n",
    "## Ursachen / Typen\n",
    "\n",
    "> Understanding the reasons why data are missing is important for handling the remaining data correctly. If values are missing completely at random, the data sample is likely still representative of the population. But if the values are missing systematically, analysis may be biased. For example, in a study of the relation between IQ and income, if participants with an above-average IQ tend to skip the question ‘What is your salary?’, analyses that do not take into account this missing at random (MAR pattern (see below)) may falsely fail to find a positive association between IQ and salary. Because of these problems, methodologists routinely advise researchers to design studies to minimize the occurrence of missing values.\n",
    "\n",
    "**Missing Completely at Random (MCAR)**\n",
    "\n",
    "> Values in a data set are missing completely at random (MCAR) if the events that lead to any particular data-item being missing are independent both of observable variables and of unobservable parameters of interest, and occur entirely at random.[5] When data are MCAR, the analysis performed on the data is unbiased; however, data are rarely MCAR.\n",
    "\n",
    "> In diesem Fall ist die Ursache für das Fehlen der Variable völlig unsystematisch. Betrachtenwir als Beispiel eine Studie, bei welcher der Grund für die Fettleibigkeit bei K12-Kindern ermittelt wird. MCAR bedeutet in diesem Fall, dass die Eltern zum Beispiel vergessen haben,\n",
    "ihre Kinder in die Klinik zur Studie zu bringen.\n",
    "\n",
    "**Missing at Random (MAR)**\n",
    "\n",
    "> Missing at random (MAR) occurs when the missingness is not random, but where missingness can be fully accounted for by variables where there is complete information.[7] Since MAR is an assumption that is impossible to verify statistically, we must rely on its substantive reasonableness.[8] An example is that males are less likely to fill in a depression survey but this has nothing to do with their level of depression, after accounting for maleness. Depending on the analysis method, these data can still induce parameter bias in analyses due to the contingent emptiness of cells (male, very high depression may have zero entries). However, if the parameter is estimated with Full Information Maximum Likelihood, MAR will provide asymptotically unbiased estimates\n",
    "\n",
    ">  In diesemFall liegt demFehlen vonDaten eine gewisse Systematik zugrunde. Bei Verwendung der obengenannten K12-Studie sind die fehlenden Daten in diesem Fall zum Beispiel auf den Umzug der Eltern in eine andere Stadt zurückzuführen, weshalb die Kinder die Studie aufgeben mussten das Fehlen hat nichts mit der Studie zu tun.\n",
    "   \n",
    "\n",
    "**Missing not at Random (MNAR)**\n",
    "\n",
    "> Missing not at random (MNAR) (also known as nonignorable nonresponse) is data that is neither MAR nor MCAR (i.e. the value of the variable that's missing is related to the reason it's missing).[5] To extend the previous example, this would occur if men failed to fill in a depression survey because of their level of depression.\n",
    "\n",
    "> Ein möglicher nichtzufälliger Grund für das Fehlen von Datenwerten ist, dass der fehlende Wert vom hypothetischen Wert abhängt. Ein Beispiel für MNAR ist, dass die Eltern durch die Art der Studie beunruhigt sind und nicht wollen, dass ihre Kinder beispielsweise gemobbt werden, deswegen zogen sie ihre Kinder aus der Studie zurück. Die Schwierigkeit mit MNAR-Daten ist intrinsisch und hat hier mit dem Problem der Identifizierbarkeit der Studienteilnehmer zu tun. Oder so legen zum Beispiel Menschen mit hohen Gehältern in Umfragen ihr Einkommen nicht offen. Ein anderer nichtzufälliger Grund könnte darin liegen, dass fehlende Werte zum Beispiel vom Wert einer anderen Variablen abhängig sind. Zum Beispiel können wir davon ausgehen, dass Frauen ihr Alter generell nicht offen legen wollen. Hier wird der fehlende Wert in der Altersvariable durch die Geschlechtsvariable bee-\n",
    "influsst.\n",
    "\n",
    "## Techniques of dealing with missing data\n",
    "\n",
    "Missing data reduces the representativeness of the sample and can therefore distort inferences about the population. Generally speaking, there are three main approaches to handle missing data:\n",
    "1. Imputation: where values are filled in the place of missing data\n",
    "2. Omission: where samples with invalid data are discarded from further analysis and\n",
    "3. Analysis: by directly applying methods unaffected by the missing values.\n",
    "\n",
    "> Im Fall von zufällig fehlendenDatenwerten kann es zulässig sein, dieDaten entweder aus demDatensatz zu entfernen oder mit (interpolierten) Daten zu ersetzen, während imFall von nicht-zufälligem Fehlen von Datenwerten das Entfernen von Beobachtungen mit fehlenden Werten eine Verzerrung im Modell erzeugen kann. Wir müssen also sehr vorsichtig sein, bevor wir Beobachtungen entfernen oder neue Werte einsetzen. Beachten Sie, dass die Datenimputation nicht unbedingt zu besseren Resultaten\n",
    "führt.\n",
    "\n",
    "### Datenpunkte entfernen\n",
    "\n",
    "Daten können entweder listenweise oder paarweise entfernt werden, im Unterricht wurde nur listenweises Entfernen (aka vollständige Fallanalyse) betrachtet. Dabei werden alle Beobachtungen mit fehlenden Werten entfernt.\n",
    "\n",
    "> Bei der listenweise Datenentfernung werden alle Daten für eine Beobachtung gelöscht, die einen oder mehrere fehlende Werte hat. Insbesondere wenn die fehlenden Daten auf eine kleine Anzahl von Beobachtungen beschränkt sind, können Sie diese Fälle einfach aus der Analyse ausschliessen. In den meisten Fällen ist es jedoch nachteilig, die listenweise Löschung zu verwenden. Dies liegt daran, dass die Annahmen von MCAR (Missing Completely Random) in der Regel selten gestützt werden können. Als Ergebnis erzeugen listenweise Löschverfahren voreingenommene Parameterschätzun-\n",
    "gen.\n",
    "\n",
    "> In statistics, listwise deletion is a method for handling missing data. In this method, an entire record is excluded from analysis if any single value is missing.[1]: \n",
    "\n",
    "See also: https://en.wikipedia.org/wiki/Listwise_deletion\n",
    "\n",
    "Weglassen von Variablen: Falls mehr als 60% der Beobachtungen fehlen, kann eine Variable auch weggelassen werden, sofern sie nicht wichtig ist. Allerdings ist Datenimputation imVergleich zum\n",
    "Weglassen von Variablen in der Regel vorzuziehen.\n",
    "\n",
    "#### Beispiele in Python"
   ]
  },
  {
   "cell_type": "code",
   "execution_count": 130,
   "metadata": {},
   "outputs": [
    {
     "data": {
      "text/html": [
       "<div>\n",
       "<style scoped>\n",
       "    .dataframe tbody tr th:only-of-type {\n",
       "        vertical-align: middle;\n",
       "    }\n",
       "\n",
       "    .dataframe tbody tr th {\n",
       "        vertical-align: top;\n",
       "    }\n",
       "\n",
       "    .dataframe thead th {\n",
       "        text-align: right;\n",
       "    }\n",
       "</style>\n",
       "<table border=\"1\" class=\"dataframe\">\n",
       "  <thead>\n",
       "    <tr style=\"text-align: right;\">\n",
       "      <th></th>\n",
       "      <th>Name</th>\n",
       "      <th>Sex</th>\n",
       "      <th>Goals</th>\n",
       "      <th>Value</th>\n",
       "      <th>OnlyNan</th>\n",
       "    </tr>\n",
       "  </thead>\n",
       "  <tbody>\n",
       "    <tr>\n",
       "      <th>0</th>\n",
       "      <td>John</td>\n",
       "      <td>M</td>\n",
       "      <td>5.0</td>\n",
       "      <td>55.0</td>\n",
       "      <td>NaN</td>\n",
       "    </tr>\n",
       "    <tr>\n",
       "      <th>1</th>\n",
       "      <td>Paul</td>\n",
       "      <td>NaN</td>\n",
       "      <td>10.0</td>\n",
       "      <td>84.0</td>\n",
       "      <td>NaN</td>\n",
       "    </tr>\n",
       "    <tr>\n",
       "      <th>3</th>\n",
       "      <td>Wale</td>\n",
       "      <td>M</td>\n",
       "      <td>19.0</td>\n",
       "      <td>90.0</td>\n",
       "      <td>NaN</td>\n",
       "    </tr>\n",
       "    <tr>\n",
       "      <th>4</th>\n",
       "      <td>Mary</td>\n",
       "      <td>F</td>\n",
       "      <td>5.0</td>\n",
       "      <td>63.0</td>\n",
       "      <td>NaN</td>\n",
       "    </tr>\n",
       "    <tr>\n",
       "      <th>5</th>\n",
       "      <td>Carli</td>\n",
       "      <td>F</td>\n",
       "      <td>0.0</td>\n",
       "      <td>15.0</td>\n",
       "      <td>NaN</td>\n",
       "    </tr>\n",
       "    <tr>\n",
       "      <th>6</th>\n",
       "      <td>Steve</td>\n",
       "      <td>M</td>\n",
       "      <td>7.0</td>\n",
       "      <td>46.0</td>\n",
       "      <td>NaN</td>\n",
       "    </tr>\n",
       "  </tbody>\n",
       "</table>\n",
       "</div>"
      ],
      "text/plain": [
       "    Name  Sex  Goals  Value  OnlyNan\n",
       "0   John    M    5.0   55.0      NaN\n",
       "1   Paul  NaN   10.0   84.0      NaN\n",
       "3   Wale    M   19.0   90.0      NaN\n",
       "4   Mary    F    5.0   63.0      NaN\n",
       "5  Carli    F    0.0   15.0      NaN\n",
       "6  Steve    M    7.0   46.0      NaN"
      ]
     },
     "execution_count": 130,
     "metadata": {},
     "output_type": "execute_result"
    }
   ],
   "source": [
    "import numpy as np\n",
    "import pandas as pd\n",
    "\n",
    "# Dummy-Datensatz mit fehlenden Daten erzeugen\n",
    "\n",
    "data = {\n",
    "    'Name':  ['John','Paul', np.NaN, 'Wale', 'Mary', 'Carli', 'Steve'],\n",
    "    'Sex':   ['M',np.nan,np.nan,'M','F','F','M'],\n",
    "    'Goals': [5,10,np.nan,19,5,0,7],\n",
    "    'Value': [55,84,np.nan,90,63,15,46]\n",
    "}\n",
    "\n",
    "df = pd.DataFrame(data, columns=['Name', 'Sex', 'Goals', 'Value'])\n",
    "df\n",
    "\n",
    "# Mit df.dropna() werden alle Zeilen, die mind. einen NaN-Wert haben entfernt\n",
    "df.dropna()\n",
    "\n",
    "# Mit df.dropna(how=\"all\") werden nur die Records entfernt,\n",
    "# die nur aus NaN Einträge bestehen\n",
    "df.dropna(how=\"all\")\n",
    "\n",
    "# Besteht eine Spalte ausschliesslich aus NaN, kann sie mittels\n",
    "# df.dropna(axis=1) entfernt werden. Dazu erstellen wir eine Fake-\n",
    "# Spalte aus NaNs\n",
    "df['OnlyNan'] = np.nan\n",
    "# Und entfernen sie\n",
    "df.dropna(how=\"all\", axis=1)\n",
    "\n",
    "# Man kann auch einen Schwellwert definieren (thres=x)\n",
    "# In diesem Fall braucht es in jeder Spalte folglich mindestens\n",
    "# zwei Werte, die verschieden von NaN sind, ansonsten wird die Spalte gelöscht.\n",
    "df.dropna(axis=1, thresh=2)"
   ]
  },
  {
   "cell_type": "markdown",
   "metadata": {},
   "source": [
    "### Data Imputation\n",
    "\n",
    "Imputation aufgrund vom Mittelwert, Median oder Modus. Bei numerischen Variablen werden fehlende Werte mit dem Mittelwert oder Median der vorhandenen Werte ersetzt.\n",
    "\n",
    "Bei katogerialen Variablen (e.g. Gruppen) ersetzt man den fehlenden Wert durch den häufigsten Wert (Modus). Diese Technik funktioniert gut, wenn die Werte völlig zufällig fehlen.\n"
   ]
  },
  {
   "cell_type": "code",
   "execution_count": 146,
   "metadata": {},
   "outputs": [
    {
     "name": "stderr",
     "output_type": "stream",
     "text": [
      "C:\\Users\\claud\\Anaconda3\\lib\\site-packages\\sklearn\\utils\\deprecation.py:58: DeprecationWarning: Class Imputer is deprecated; Imputer was deprecated in version 0.20 and will be removed in 0.22. Import impute.SimpleImputer from sklearn instead.\n",
      "  warnings.warn(msg, category=DeprecationWarning)\n"
     ]
    },
    {
     "data": {
      "text/html": [
       "<div>\n",
       "<style scoped>\n",
       "    .dataframe tbody tr th:only-of-type {\n",
       "        vertical-align: middle;\n",
       "    }\n",
       "\n",
       "    .dataframe tbody tr th {\n",
       "        vertical-align: top;\n",
       "    }\n",
       "\n",
       "    .dataframe thead th {\n",
       "        text-align: right;\n",
       "    }\n",
       "</style>\n",
       "<table border=\"1\" class=\"dataframe\">\n",
       "  <thead>\n",
       "    <tr style=\"text-align: right;\">\n",
       "      <th></th>\n",
       "      <th>Age</th>\n",
       "      <th>Goals</th>\n",
       "      <th>Assists</th>\n",
       "      <th>Value</th>\n",
       "    </tr>\n",
       "  </thead>\n",
       "  <tbody>\n",
       "    <tr>\n",
       "      <th>0</th>\n",
       "      <td>21.0</td>\n",
       "      <td>5.000000</td>\n",
       "      <td>7.000000</td>\n",
       "      <td>55.000000</td>\n",
       "    </tr>\n",
       "    <tr>\n",
       "      <th>1</th>\n",
       "      <td>23.0</td>\n",
       "      <td>10.000000</td>\n",
       "      <td>4.000000</td>\n",
       "      <td>84.000000</td>\n",
       "    </tr>\n",
       "    <tr>\n",
       "      <th>2</th>\n",
       "      <td>20.6</td>\n",
       "      <td>7.666667</td>\n",
       "      <td>6.166667</td>\n",
       "      <td>58.833333</td>\n",
       "    </tr>\n",
       "    <tr>\n",
       "      <th>3</th>\n",
       "      <td>19.0</td>\n",
       "      <td>19.000000</td>\n",
       "      <td>9.000000</td>\n",
       "      <td>90.000000</td>\n",
       "    </tr>\n",
       "    <tr>\n",
       "      <th>4</th>\n",
       "      <td>25.0</td>\n",
       "      <td>5.000000</td>\n",
       "      <td>7.000000</td>\n",
       "      <td>63.000000</td>\n",
       "    </tr>\n",
       "    <tr>\n",
       "      <th>5</th>\n",
       "      <td>20.6</td>\n",
       "      <td>0.000000</td>\n",
       "      <td>6.000000</td>\n",
       "      <td>15.000000</td>\n",
       "    </tr>\n",
       "    <tr>\n",
       "      <th>6</th>\n",
       "      <td>15.0</td>\n",
       "      <td>7.000000</td>\n",
       "      <td>4.000000</td>\n",
       "      <td>46.000000</td>\n",
       "    </tr>\n",
       "  </tbody>\n",
       "</table>\n",
       "</div>"
      ],
      "text/plain": [
       "    Age      Goals   Assists      Value\n",
       "0  21.0   5.000000  7.000000  55.000000\n",
       "1  23.0  10.000000  4.000000  84.000000\n",
       "2  20.6   7.666667  6.166667  58.833333\n",
       "3  19.0  19.000000  9.000000  90.000000\n",
       "4  25.0   5.000000  7.000000  63.000000\n",
       "5  20.6   0.000000  6.000000  15.000000\n",
       "6  15.0   7.000000  4.000000  46.000000"
      ]
     },
     "execution_count": 146,
     "metadata": {},
     "output_type": "execute_result"
    }
   ],
   "source": [
    "# Example: Scikit-learn\n",
    "import numpy as np\n",
    "import pandas as pd\n",
    "from sklearn.preprocessing import Imputer\n",
    "\n",
    "data = {\n",
    "    'Name':    ['John','Paul', np.NaN, 'Wale', 'Mary', 'Carli', 'Steve'],\n",
    "    'Age':     [21,23,np.nan,19,25,np.nan,15],\n",
    "    'Sex':     ['M',np.nan,np.nan,'M','F','F','M'],\n",
    "    'Goals':   [5,10,np.nan,19,5,0,7],\n",
    "    'Assists': [7,4,np.nan,9,7,6,4],\n",
    "    'Value':   [55,84,np.nan,90,63,15,46]\n",
    "}\n",
    "\n",
    "df = pd.DataFrame(data, columns=['Name','Age','Sex', 'Goals', 'Assists', 'Value'])\n",
    "\n",
    "values = df[[\"Age\", \"Goals\", \"Assists\", \"Value\"]].values\n",
    "\n",
    "# strategy bezieht sich auf die Imputationsstrategie, und der\n",
    "# Standardwert ist der Mittelwert (mean) \n",
    "# der Achse (0 für Spalten und 1 für Zeilen). Die anderen Strategien\n",
    "# sind median und most_frequent.\n",
    "imputer = Imputer(missing_values=\"NaN\", strategy=\"mean\", axis=0, verbose=0, copy=True)\n",
    "transformed_values = imputer.fit_transform(values)\n",
    "\n",
    "df_new = pd.DataFrame(transformed_values, columns=['Age', 'Goals', 'Assists', 'Value'])\n",
    "df_new"
   ]
  },
  {
   "cell_type": "code",
   "execution_count": 149,
   "metadata": {},
   "outputs": [
    {
     "ename": "ModuleNotFoundError",
     "evalue": "No module named 'fancyimpute'",
     "output_type": "error",
     "traceback": [
      "\u001b[1;31m---------------------------------------------------------------------------\u001b[0m",
      "\u001b[1;31mModuleNotFoundError\u001b[0m                       Traceback (most recent call last)",
      "\u001b[1;32m<ipython-input-149-8084847d7d60>\u001b[0m in \u001b[0;36m<module>\u001b[1;34m\u001b[0m\n\u001b[1;32m----> 1\u001b[1;33m \u001b[1;32mfrom\u001b[0m \u001b[0mfancyimpute\u001b[0m \u001b[1;32mimport\u001b[0m \u001b[0mSimpleFill\u001b[0m\u001b[1;33m\u001b[0m\u001b[1;33m\u001b[0m\u001b[0m\n\u001b[0m\u001b[0;32m      2\u001b[0m \u001b[1;33m\u001b[0m\u001b[0m\n\u001b[0;32m      3\u001b[0m df_imputed = DataFrame(\n\u001b[0;32m      4\u001b[0m     \u001b[0mSimpleFill\u001b[0m\u001b[1;33m(\u001b[0m\u001b[1;33m)\u001b[0m\u001b[1;33m.\u001b[0m\u001b[0mfit_transform\u001b[0m\u001b[1;33m(\u001b[0m\u001b[0mvalues\u001b[0m\u001b[1;33m)\u001b[0m\u001b[1;33m,\u001b[0m\u001b[1;33m\u001b[0m\u001b[1;33m\u001b[0m\u001b[0m\n\u001b[0;32m      5\u001b[0m     \u001b[0mcolumns\u001b[0m\u001b[1;33m=\u001b[0m\u001b[1;33m[\u001b[0m\u001b[1;34m\"Age\"\u001b[0m\u001b[1;33m,\u001b[0m \u001b[1;34m\"Goals\"\u001b[0m\u001b[1;33m,\u001b[0m \u001b[1;34m\"Assists\"\u001b[0m\u001b[1;33m,\u001b[0m \u001b[1;34m\"Value\"\u001b[0m\u001b[1;33m]\u001b[0m\u001b[1;33m\u001b[0m\u001b[1;33m\u001b[0m\u001b[0m\n",
      "\u001b[1;31mModuleNotFoundError\u001b[0m: No module named 'fancyimpute'"
     ]
    }
   ],
   "source": [
    "from fancyimpute import SimpleFill\n",
    "\n",
    "df_imputed = DataFrame(\n",
    "    SimpleFill().fit_transform(values),\n",
    "    columns=[\"Age\", \"Goals\", \"Assists\", \"Value\"]\n",
    ")"
   ]
  },
  {
   "cell_type": "markdown",
   "metadata": {},
   "source": [
    "Datenimputation mit K-Nearest Neighbour:\n",
    "\n",
    "Mit `KNN(k=x).fit_transform(data)` werden die fehlendenWerte aufgrund der k nächstliegendenWerte (Nachbarn) ersetzt. Die Anzahl k der zu betrachtenden nächsten Nachbarn muss festgelegt werden. Standardmässig werden alle k Werte gleich (uniform) zur Berechnung des Ersatzwertes gewichtet. Es gibt aber auch andere Gewichtungsmethoden:"
   ]
  },
  {
   "cell_type": "code",
   "execution_count": 150,
   "metadata": {},
   "outputs": [
    {
     "ename": "ModuleNotFoundError",
     "evalue": "No module named 'fancyimpute'",
     "output_type": "error",
     "traceback": [
      "\u001b[1;31m---------------------------------------------------------------------------\u001b[0m",
      "\u001b[1;31mModuleNotFoundError\u001b[0m                       Traceback (most recent call last)",
      "\u001b[1;32m<ipython-input-150-c7f2d172eb11>\u001b[0m in \u001b[0;36m<module>\u001b[1;34m\u001b[0m\n\u001b[1;32m----> 1\u001b[1;33m \u001b[1;32mfrom\u001b[0m \u001b[0mfancyimpute\u001b[0m \u001b[1;32mimport\u001b[0m \u001b[0mKNN\u001b[0m\u001b[1;33m\u001b[0m\u001b[1;33m\u001b[0m\u001b[0m\n\u001b[0m\u001b[0;32m      2\u001b[0m \u001b[1;33m\u001b[0m\u001b[0m\n\u001b[0;32m      3\u001b[0m df_imputed = pd.DataFrame(\n\u001b[0;32m      4\u001b[0m     \u001b[0mKNN\u001b[0m\u001b[1;33m(\u001b[0m\u001b[0mk\u001b[0m\u001b[1;33m=\u001b[0m\u001b[1;36m3\u001b[0m\u001b[1;33m)\u001b[0m\u001b[1;33m.\u001b[0m\u001b[0mfit_transform\u001b[0m\u001b[1;33m(\u001b[0m\u001b[0mvalues\u001b[0m\u001b[1;33m)\u001b[0m\u001b[1;33m,\u001b[0m\u001b[1;33m\u001b[0m\u001b[1;33m\u001b[0m\u001b[0m\n\u001b[0;32m      5\u001b[0m     \u001b[0mcolumns\u001b[0m\u001b[1;33m=\u001b[0m\u001b[1;33m[\u001b[0m\u001b[1;34m\"Age\"\u001b[0m\u001b[1;33m,\u001b[0m \u001b[1;34m\"Goals\"\u001b[0m\u001b[1;33m,\u001b[0m \u001b[1;34m\"Assists\"\u001b[0m\u001b[1;33m,\u001b[0m \u001b[1;34m\"Value\"\u001b[0m\u001b[1;33m]\u001b[0m\u001b[1;33m\u001b[0m\u001b[1;33m\u001b[0m\u001b[0m\n",
      "\u001b[1;31mModuleNotFoundError\u001b[0m: No module named 'fancyimpute'"
     ]
    }
   ],
   "source": [
    "from fancyimpute import KNN\n",
    "\n",
    "df_imputed = pd.DataFrame(\n",
    "    KNN(k=3).fit_transform(values),\n",
    "    columns=[\"Age\", \"Goals\", \"Assists\", \"Value\"]\n",
    ")"
   ]
  },
  {
   "cell_type": "markdown",
   "metadata": {},
   "source": [
    "Datenimputation mit MIC\n",
    "\n",
    "Mit `fancyimpute.MICE().complete(data)` werden fehlende Datenwerte durch Mehrfachimputation (Multiple Imputation by Chained Equations) ersetzt. MICE ist ein Prozess, bei dem die fehlenden Werte mehrfach ersetzt werden, um „vollständige” Datensätze zu erstellen. Multiple Imputation hat viele Vorteile gegenüber herkömmlichen Methoden. Multiple Imputation durch verkettete Gleichungen (MICE) ist eine Imputationsmethode, die mit der Annahme arbeitet, dass die fehlenden Daten zufällig (MAR) fehlen. Bedenken Sie, dass für MAR die Art der fehlenden Daten mit den beobachteten Daten, aber nicht mit den fehlendenDaten zusammenhängt. Der MICEAlgorithmus arbeitet mit mehreren Regressionsmodellen, und jeder fehlende Wert wird abhängig von den beobachteten (nicht fehlenden) Werten bedingt modelliert."
   ]
  },
  {
   "cell_type": "code",
   "execution_count": 151,
   "metadata": {},
   "outputs": [
    {
     "ename": "ModuleNotFoundError",
     "evalue": "No module named 'fancyimpute'",
     "output_type": "error",
     "traceback": [
      "\u001b[1;31m---------------------------------------------------------------------------\u001b[0m",
      "\u001b[1;31mModuleNotFoundError\u001b[0m                       Traceback (most recent call last)",
      "\u001b[1;32m<ipython-input-151-bc5228255d4b>\u001b[0m in \u001b[0;36m<module>\u001b[1;34m\u001b[0m\n\u001b[1;32m----> 1\u001b[1;33m \u001b[1;32mfrom\u001b[0m \u001b[0mfancyimpute\u001b[0m \u001b[1;32mimport\u001b[0m \u001b[0mIterativeImputer\u001b[0m\u001b[1;33m\u001b[0m\u001b[1;33m\u001b[0m\u001b[0m\n\u001b[0m\u001b[0;32m      2\u001b[0m \u001b[1;33m\u001b[0m\u001b[0m\n\u001b[0;32m      3\u001b[0m df_imputed = pd.DataFrame(\n\u001b[0;32m      4\u001b[0m     \u001b[0mIterativeImputer\u001b[0m\u001b[1;33m(\u001b[0m\u001b[1;33m)\u001b[0m\u001b[1;33m.\u001b[0m\u001b[0mfit_transform\u001b[0m\u001b[1;33m(\u001b[0m\u001b[0mvalues\u001b[0m\u001b[1;33m)\u001b[0m\u001b[1;33m,\u001b[0m\u001b[1;33m\u001b[0m\u001b[1;33m\u001b[0m\u001b[0m\n\u001b[0;32m      5\u001b[0m     \u001b[0mcolumns\u001b[0m \u001b[1;33m=\u001b[0m\u001b[1;33m[\u001b[0m\u001b[1;34m\"Age\"\u001b[0m\u001b[1;33m,\u001b[0m \u001b[1;34m\"Goals\"\u001b[0m\u001b[1;33m,\u001b[0m \u001b[1;34m\"Assists\"\u001b[0m\u001b[1;33m,\u001b[0m \u001b[1;34m\"Value\"\u001b[0m\u001b[1;33m]\u001b[0m\u001b[1;33m\u001b[0m\u001b[1;33m\u001b[0m\u001b[0m\n",
      "\u001b[1;31mModuleNotFoundError\u001b[0m: No module named 'fancyimpute'"
     ]
    }
   ],
   "source": [
    "from fancyimpute import IterativeImputer\n",
    "\n",
    "df_imputed = pd.DataFrame(\n",
    "    IterativeImputer().fit_transform(values),\n",
    "    columns =[\"Age\", \"Goals\", \"Assists\", \"Value\"]\n",
    ")\n",
    "df_imputed"
   ]
  }
 ],
 "metadata": {
  "kernelspec": {
   "display_name": "Python 3",
   "language": "python",
   "name": "python3"
  },
  "language_info": {
   "codemirror_mode": {
    "name": "ipython",
    "version": 3
   },
   "file_extension": ".py",
   "mimetype": "text/x-python",
   "name": "python",
   "nbconvert_exporter": "python",
   "pygments_lexer": "ipython3",
   "version": "3.7.4"
  }
 },
 "nbformat": 4,
 "nbformat_minor": 2
}

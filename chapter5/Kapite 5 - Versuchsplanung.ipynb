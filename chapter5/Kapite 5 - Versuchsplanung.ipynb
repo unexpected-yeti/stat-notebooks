{
 "cells": [
  {
   "cell_type": "markdown",
   "metadata": {},
   "source": [
    "# Versuchsplanung\n",
    "\n",
    "## Lernziele\n",
    "\n",
    "- [ ] Erklären: Unterschied zwischen Experiment und einer Erhebung\n",
    "- [ ] Mit Beispielen ausführen, weshalb Korrelationen für Rückschlüsse auf kausale Zusammenhänge nicht zulässig sind.\n",
    "- [ ] Erklären: Effekt von Randomisierung im Zusammenhang von confounding und kausalen Zusammenhängen mit Beispielen erklären\n",
    "- [ ] die Vorgehensweise bei einer vollständig randomisierten Doppel-Blind-Studie zu erlklären und für jeden Schritt die zugrundeliegenden Gründe auszuführen.\n",
    "- [ ] den Unterschied zwischen einer primären und einer sekundären Variablen zu erklären und den Zusammenhang mit der Blockbildung und deren Voraussetzung herzustellen\n",
    "- [ ] in einer Versuchsplanung zwischen Wiederholungen und Scheinwiederholungen zu unterscheiden und zu erklären, wozu Replikate in der statistischen Auswer-tung benötigt werden."
   ]
  }
 ],
 "metadata": {
  "kernelspec": {
   "display_name": "Python 3",
   "language": "python",
   "name": "python3"
  },
  "language_info": {
   "codemirror_mode": {
    "name": "ipython",
    "version": 3
   },
   "file_extension": ".py",
   "mimetype": "text/x-python",
   "name": "python",
   "nbconvert_exporter": "python",
   "pygments_lexer": "ipython3",
   "version": "3.7.4"
  }
 },
 "nbformat": 4,
 "nbformat_minor": 2
}
